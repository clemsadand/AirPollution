{
  "cells": [
    {
      "cell_type": "markdown",
      "metadata": {
        "id": "view-in-github",
        "colab_type": "text"
      },
      "source": [
        "<a href=\"https://colab.research.google.com/github/clemsadand/AirPollution/blob/main/Grid_Search.ipynb\" target=\"_parent\"><img src=\"https://colab.research.google.com/assets/colab-badge.svg\" alt=\"Open In Colab\"/></a>"
      ]
    },
    {
      "cell_type": "code",
      "execution_count": 1,
      "metadata": {
        "colab": {
          "base_uri": "https://localhost:8080/"
        },
        "id": "yf1pWP5_-s8W",
        "outputId": "33f1f882-ebf9-4272-c13a-b657e2e0902c"
      },
      "outputs": [
        {
          "output_type": "stream",
          "name": "stdout",
          "text": [
            "Cloning into 'AirPollution'...\n",
            "remote: Enumerating objects: 74, done.\u001b[K\n",
            "remote: Counting objects: 100% (74/74), done.\u001b[K\n",
            "remote: Compressing objects: 100% (72/72), done.\u001b[K\n",
            "remote: Total 74 (delta 38), reused 0 (delta 0), pack-reused 0 (from 0)\u001b[K\n",
            "Receiving objects: 100% (74/74), 333.38 KiB | 748.00 KiB/s, done.\n",
            "Resolving deltas: 100% (38/38), done.\n"
          ]
        }
      ],
      "source": [
        "!git clone https://github.com/clemsadand/AirPollution.git"
      ]
    },
    {
      "cell_type": "code",
      "execution_count": 2,
      "metadata": {
        "colab": {
          "base_uri": "https://localhost:8080/"
        },
        "collapsed": true,
        "id": "3AdAFQXvHw8f",
        "outputId": "e36bf113-3796-49ce-8f64-fc0353748fe0"
      },
      "outputs": [
        {
          "output_type": "stream",
          "name": "stdout",
          "text": [
            "Get:1 https://cloud.r-project.org/bin/linux/ubuntu jammy-cran40/ InRelease [3,632 B]\n",
            "Get:2 https://developer.download.nvidia.com/compute/cuda/repos/ubuntu2204/x86_64  InRelease [1,581 B]\n",
            "Get:3 http://security.ubuntu.com/ubuntu jammy-security InRelease [129 kB]\n",
            "Get:4 https://developer.download.nvidia.com/compute/cuda/repos/ubuntu2204/x86_64  Packages [1,683 kB]\n",
            "Hit:5 http://archive.ubuntu.com/ubuntu jammy InRelease\n",
            "Get:6 http://archive.ubuntu.com/ubuntu jammy-updates InRelease [128 kB]\n",
            "Get:7 https://r2u.stat.illinois.edu/ubuntu jammy InRelease [6,555 B]\n",
            "Hit:8 https://ppa.launchpadcontent.net/deadsnakes/ppa/ubuntu jammy InRelease\n",
            "Get:9 https://ppa.launchpadcontent.net/graphics-drivers/ppa/ubuntu jammy InRelease [24.3 kB]\n",
            "Get:10 https://r2u.stat.illinois.edu/ubuntu jammy/main all Packages [8,964 kB]\n",
            "Get:11 http://security.ubuntu.com/ubuntu jammy-security/universe amd64 Packages [1,245 kB]\n",
            "Get:12 http://archive.ubuntu.com/ubuntu jammy-backports InRelease [127 kB]\n",
            "Get:13 https://ppa.launchpadcontent.net/ubuntugis/ppa/ubuntu jammy InRelease [24.6 kB]\n",
            "Get:14 http://archive.ubuntu.com/ubuntu jammy-updates/main amd64 Packages [3,255 kB]\n",
            "Get:15 https://ppa.launchpadcontent.net/graphics-drivers/ppa/ubuntu jammy/main amd64 Packages [46.6 kB]\n",
            "Get:16 https://ppa.launchpadcontent.net/ubuntugis/ppa/ubuntu jammy/main amd64 Packages [77.3 kB]\n",
            "Get:17 http://security.ubuntu.com/ubuntu jammy-security/main amd64 Packages [2,944 kB]\n",
            "Get:18 http://security.ubuntu.com/ubuntu jammy-security/restricted amd64 Packages [4,387 kB]\n",
            "Get:19 http://archive.ubuntu.com/ubuntu jammy-updates/restricted amd64 Packages [4,540 kB]\n",
            "Get:20 http://archive.ubuntu.com/ubuntu jammy-updates/universe amd64 Packages [1,552 kB]\n",
            "Get:21 http://archive.ubuntu.com/ubuntu jammy-backports/main amd64 Packages [83.2 kB]\n",
            "Get:22 http://archive.ubuntu.com/ubuntu jammy-backports/universe amd64 Packages [35.2 kB]\n",
            "Get:23 https://r2u.stat.illinois.edu/ubuntu jammy/main amd64 Packages [2,728 kB]\n",
            "Fetched 32.0 MB in 8s (4,222 kB/s)\n",
            "Reading package lists...\n",
            "W: Skipping acquire of configured file 'main/source/Sources' as repository 'https://r2u.stat.illinois.edu/ubuntu jammy InRelease' does not seem to provide it (sources.list entry misspelt?)\n",
            "Reading package lists...\n",
            "Building dependency tree...\n",
            "Reading state information...\n",
            "The following NEW packages will be installed:\n",
            "  libglu1-mesa\n",
            "0 upgraded, 1 newly installed, 0 to remove and 93 not upgraded.\n",
            "Need to get 145 kB of archives.\n",
            "After this operation, 367 kB of additional disk space will be used.\n",
            "Get:1 http://archive.ubuntu.com/ubuntu jammy/main amd64 libglu1-mesa amd64 9.0.2-1 [145 kB]\n",
            "Fetched 145 kB in 1s (155 kB/s)\n",
            "debconf: unable to initialize frontend: Dialog\n",
            "debconf: (No usable dialog-like program is installed, so the dialog based frontend cannot be used. at /usr/share/perl5/Debconf/FrontEnd/Dialog.pm line 78, <> line 1.)\n",
            "debconf: falling back to frontend: Readline\n",
            "debconf: unable to initialize frontend: Readline\n",
            "debconf: (This frontend requires a controlling tty.)\n",
            "debconf: falling back to frontend: Teletype\n",
            "dpkg-preconfigure: unable to re-open stdin: \n",
            "Selecting previously unselected package libglu1-mesa:amd64.\n",
            "(Reading database ... 126102 files and directories currently installed.)\n",
            "Preparing to unpack .../libglu1-mesa_9.0.2-1_amd64.deb ...\n",
            "Unpacking libglu1-mesa:amd64 (9.0.2-1) ...\n",
            "Setting up libglu1-mesa:amd64 (9.0.2-1) ...\n",
            "Processing triggers for libc-bin (2.35-0ubuntu3.8) ...\n",
            "/sbin/ldconfig.real: /usr/local/lib/libtbbmalloc.so.2 is not a symbolic link\n",
            "\n",
            "/sbin/ldconfig.real: /usr/local/lib/libtcm.so.1 is not a symbolic link\n",
            "\n",
            "/sbin/ldconfig.real: /usr/local/lib/libur_loader.so.0 is not a symbolic link\n",
            "\n",
            "/sbin/ldconfig.real: /usr/local/lib/libtbbbind_2_5.so.3 is not a symbolic link\n",
            "\n",
            "/sbin/ldconfig.real: /usr/local/lib/libumf.so.0 is not a symbolic link\n",
            "\n",
            "/sbin/ldconfig.real: /usr/local/lib/libtbbmalloc_proxy.so.2 is not a symbolic link\n",
            "\n",
            "/sbin/ldconfig.real: /usr/local/lib/libtbbbind_2_0.so.3 is not a symbolic link\n",
            "\n",
            "/sbin/ldconfig.real: /usr/local/lib/libhwloc.so.15 is not a symbolic link\n",
            "\n",
            "/sbin/ldconfig.real: /usr/local/lib/libur_adapter_level_zero.so.0 is not a symbolic link\n",
            "\n",
            "/sbin/ldconfig.real: /usr/local/lib/libtbb.so.12 is not a symbolic link\n",
            "\n",
            "/sbin/ldconfig.real: /usr/local/lib/libtbbbind.so.3 is not a symbolic link\n",
            "\n",
            "/sbin/ldconfig.real: /usr/local/lib/libur_adapter_opencl.so.0 is not a symbolic link\n",
            "\n",
            "/sbin/ldconfig.real: /usr/local/lib/libtcm_debug.so.1 is not a symbolic link\n",
            "\n"
          ]
        }
      ],
      "source": [
        "!sudo apt-get update -q\n",
        "!sudo apt-get install -y libglu1-mesa -q"
      ]
    },
    {
      "cell_type": "code",
      "execution_count": 3,
      "metadata": {
        "colab": {
          "base_uri": "https://localhost:8080/"
        },
        "collapsed": true,
        "id": "zn7Or6rg_EM3",
        "outputId": "38df35da-9ea4-49a8-e7e9-6cfe12818601"
      },
      "outputs": [
        {
          "output_type": "stream",
          "name": "stdout",
          "text": [
            "Requirement already satisfied: numpy in /usr/local/lib/python3.11/dist-packages (from -r AirPollution/requirements.txt (line 1)) (2.0.2)\n",
            "Requirement already satisfied: matplotlib in /usr/local/lib/python3.11/dist-packages (from -r AirPollution/requirements.txt (line 2)) (3.10.0)\n",
            "Collecting meshio (from -r AirPollution/requirements.txt (line 3))\n",
            "  Downloading meshio-5.3.5-py3-none-any.whl.metadata (11 kB)\n",
            "Collecting pyDOE (from -r AirPollution/requirements.txt (line 4))\n",
            "  Downloading pyDOE-0.3.8.zip (22 kB)\n",
            "  Preparing metadata (setup.py) ... \u001b[?25l\u001b[?25hdone\n",
            "Collecting gmsh (from -r AirPollution/requirements.txt (line 5))\n",
            "  Downloading gmsh-4.13.1-py2.py3-none-manylinux_2_24_x86_64.whl.metadata (1.7 kB)\n",
            "Requirement already satisfied: contourpy>=1.0.1 in /usr/local/lib/python3.11/dist-packages (from matplotlib->-r AirPollution/requirements.txt (line 2)) (1.3.2)\n",
            "Requirement already satisfied: cycler>=0.10 in /usr/local/lib/python3.11/dist-packages (from matplotlib->-r AirPollution/requirements.txt (line 2)) (0.12.1)\n",
            "Requirement already satisfied: fonttools>=4.22.0 in /usr/local/lib/python3.11/dist-packages (from matplotlib->-r AirPollution/requirements.txt (line 2)) (4.58.0)\n",
            "Requirement already satisfied: kiwisolver>=1.3.1 in /usr/local/lib/python3.11/dist-packages (from matplotlib->-r AirPollution/requirements.txt (line 2)) (1.4.8)\n",
            "Requirement already satisfied: packaging>=20.0 in /usr/local/lib/python3.11/dist-packages (from matplotlib->-r AirPollution/requirements.txt (line 2)) (24.2)\n",
            "Requirement already satisfied: pillow>=8 in /usr/local/lib/python3.11/dist-packages (from matplotlib->-r AirPollution/requirements.txt (line 2)) (11.2.1)\n",
            "Requirement already satisfied: pyparsing>=2.3.1 in /usr/local/lib/python3.11/dist-packages (from matplotlib->-r AirPollution/requirements.txt (line 2)) (3.2.3)\n",
            "Requirement already satisfied: python-dateutil>=2.7 in /usr/local/lib/python3.11/dist-packages (from matplotlib->-r AirPollution/requirements.txt (line 2)) (2.9.0.post0)\n",
            "Requirement already satisfied: rich in /usr/local/lib/python3.11/dist-packages (from meshio->-r AirPollution/requirements.txt (line 3)) (13.9.4)\n",
            "Requirement already satisfied: scipy in /usr/local/lib/python3.11/dist-packages (from pyDOE->-r AirPollution/requirements.txt (line 4)) (1.15.3)\n",
            "Requirement already satisfied: six>=1.5 in /usr/local/lib/python3.11/dist-packages (from python-dateutil>=2.7->matplotlib->-r AirPollution/requirements.txt (line 2)) (1.17.0)\n",
            "Requirement already satisfied: markdown-it-py>=2.2.0 in /usr/local/lib/python3.11/dist-packages (from rich->meshio->-r AirPollution/requirements.txt (line 3)) (3.0.0)\n",
            "Requirement already satisfied: pygments<3.0.0,>=2.13.0 in /usr/local/lib/python3.11/dist-packages (from rich->meshio->-r AirPollution/requirements.txt (line 3)) (2.19.1)\n",
            "Requirement already satisfied: mdurl~=0.1 in /usr/local/lib/python3.11/dist-packages (from markdown-it-py>=2.2.0->rich->meshio->-r AirPollution/requirements.txt (line 3)) (0.1.2)\n",
            "Downloading meshio-5.3.5-py3-none-any.whl (166 kB)\n",
            "\u001b[2K   \u001b[90m━━━━━━━━━━━━━━━━━━━━━━━━━━━━━━━━━━━━━━━━\u001b[0m \u001b[32m166.2/166.2 kB\u001b[0m \u001b[31m15.6 MB/s\u001b[0m eta \u001b[36m0:00:00\u001b[0m\n",
            "\u001b[?25hDownloading gmsh-4.13.1-py2.py3-none-manylinux_2_24_x86_64.whl (39.8 MB)\n",
            "\u001b[2K   \u001b[90m━━━━━━━━━━━━━━━━━━━━━━━━━━━━━━━━━━━━━━━━\u001b[0m \u001b[32m39.8/39.8 MB\u001b[0m \u001b[31m10.7 MB/s\u001b[0m eta \u001b[36m0:00:00\u001b[0m\n",
            "\u001b[?25hBuilding wheels for collected packages: pyDOE\n",
            "  Building wheel for pyDOE (setup.py) ... \u001b[?25l\u001b[?25hdone\n",
            "  Created wheel for pyDOE: filename=pyDOE-0.3.8-py3-none-any.whl size=18170 sha256=8171d050c5e389596260066eaf9ccea51525bbf9bbadef43f9356b0cb592d333\n",
            "  Stored in directory: /root/.cache/pip/wheels/84/20/8c/8bd43ba42b0b6d39ace1219d6da1576e0dac81b12265c4762e\n",
            "Successfully built pyDOE\n",
            "Installing collected packages: gmsh, pyDOE, meshio\n",
            "Successfully installed gmsh-4.13.1 meshio-5.3.5 pyDOE-0.3.8\n"
          ]
        }
      ],
      "source": [
        "!pip install -r AirPollution/requirements.txt"
      ]
    },
    {
      "cell_type": "code",
      "execution_count": 4,
      "metadata": {
        "id": "FzmBEh17-yXw"
      },
      "outputs": [],
      "source": [
        "# !python AirPollution/pinn2.py"
      ]
    },
    {
      "cell_type": "code",
      "execution_count": 5,
      "metadata": {
        "id": "Jvwf7b2yC3If"
      },
      "outputs": [],
      "source": [
        "# !python AirPollution/crbe_fem.py"
      ]
    },
    {
      "cell_type": "markdown",
      "source": [
        "| Hyperparameter | Values |\n",
        "|---|---|\n",
        "| Learning rate | 10⁻⁴, 5×10⁻⁴, 10⁻³, 5×10⁻³ |\n",
        "| Network depth | 3, 4, 5, 6 hidden layers |\n",
        "| Network width | 32, 64, 128 neurons per layer |\n",
        "| Loss weights (λ_PDE) | 0.1, 1.0, 10.0 |\n",
        "| Loss weights (λ_IC, λ_BC) | 1.0, 10.0, 100.0 |\n",
        "| Activation functions | tanh, sine, swish |"
      ],
      "metadata": {
        "id": "RW3LrEhC8GF_"
      }
    },
    {
      "cell_type": "code",
      "source": [
        "learning_rates = [1e-4, 5e-4, 1e-3, 5e-3]\n",
        "network_depths = [3, 4, 5, 6]\n",
        "network_widths = [16, 32, 64]\n",
        "loss_weights_pde = [0.1, 1.0, 10.0]\n",
        "loss_weights_ic_bc = [1.0, 10.0, 100.0]\n",
        "activation_functions = [\"tanh\", \"sine\", \"swish\"]"
      ],
      "metadata": {
        "id": "ZJfyUV9L8EQS"
      },
      "execution_count": 1,
      "outputs": []
    },
    {
      "cell_type": "code",
      "source": [
        "n_steps = 32\n",
        "mesh_size = 64\n",
        "\n",
        "mesh_file = crbe_fem.create_mesh(mesh_size, domain_size=domain_size)\n",
        "mesh = meshio.read(mesh_file)\n",
        "domains = Domains(Lx=Lx, Ly=Ly, T=T)\n",
        "mesh_data = crbe_fem.MeshData(mesh, domains, nt=n_steps)\n",
        "\n",
        "# ========= Hyperparameter\n",
        "epochs = 20\n",
        "\n",
        "n_ic = round(0.2 * mesh_data.number_of_segments)\n",
        "n_bc = n_ic\n",
        "n_col = mesh_data.number_of_segments - n_ic - n_bc\n",
        "batch_sizes = {'pde': n_col, 'ic': n_ic, 'bc': n_ic}\n",
        "\n",
        "print(batch_sizes)"
      ],
      "metadata": {
        "colab": {
          "base_uri": "https://localhost:8080/"
        },
        "id": "vnBi5wO7Hsk5",
        "outputId": "ebb4954b-6638-457c-8c30-e8bfdbb5148d"
      },
      "execution_count": 5,
      "outputs": [
        {
          "output_type": "stream",
          "name": "stdout",
          "text": [
            "\n",
            "{'pde': 8398, 'ic': 2800, 'bc': 2800}\n"
          ]
        }
      ]
    },
    {
      "cell_type": "code",
      "execution_count": null,
      "metadata": {
        "id": "qc7pY2PcHlqN",
        "colab": {
          "base_uri": "https://localhost:8080/"
        },
        "outputId": "ec3b6cb6-7c9b-43e7-9071-25a5b4c4e451"
      },
      "outputs": [
        {
          "output_type": "stream",
          "name": "stdout",
          "text": [
            "\n",
            "Training with lr=0.0001, depth=3, width=16, lambda_pde=0.1, lambda_ic_bc=1.0, activation=tanh\n"
          ]
        },
        {
          "output_type": "stream",
          "name": "stderr",
          "text": [
            "100%|██████████| 20/20 [00:00<00:00, 84.74it/s]\n"
          ]
        },
        {
          "output_type": "stream",
          "name": "stdout",
          "text": [
            "Training completed in 0.24 seconds\n",
            "Training with lr=0.0001, depth=3, width=16, lambda_pde=0.1, lambda_ic_bc=1.0, activation=sine\n"
          ]
        },
        {
          "output_type": "stream",
          "name": "stderr",
          "text": [
            "100%|██████████| 20/20 [00:00<00:00, 80.12it/s]\n"
          ]
        },
        {
          "output_type": "stream",
          "name": "stdout",
          "text": [
            "Training completed in 0.25 seconds\n",
            "Training with lr=0.0001, depth=3, width=16, lambda_pde=0.1, lambda_ic_bc=1.0, activation=swish\n"
          ]
        },
        {
          "output_type": "stream",
          "name": "stderr",
          "text": [
            "100%|██████████| 20/20 [00:00<00:00, 62.96it/s]\n"
          ]
        },
        {
          "output_type": "stream",
          "name": "stdout",
          "text": [
            "Training completed in 0.32 seconds\n",
            "Training with lr=0.0001, depth=3, width=16, lambda_pde=0.1, lambda_ic_bc=10.0, activation=tanh\n"
          ]
        },
        {
          "output_type": "stream",
          "name": "stderr",
          "text": [
            "100%|██████████| 20/20 [00:00<00:00, 86.06it/s]\n"
          ]
        },
        {
          "output_type": "stream",
          "name": "stdout",
          "text": [
            "Training completed in 0.24 seconds\n",
            "Training with lr=0.0001, depth=3, width=16, lambda_pde=0.1, lambda_ic_bc=10.0, activation=sine\n"
          ]
        },
        {
          "output_type": "stream",
          "name": "stderr",
          "text": [
            "100%|██████████| 20/20 [00:00<00:00, 81.83it/s]\n"
          ]
        },
        {
          "output_type": "stream",
          "name": "stdout",
          "text": [
            "Training completed in 0.25 seconds\n",
            "Training with lr=0.0001, depth=3, width=16, lambda_pde=0.1, lambda_ic_bc=10.0, activation=swish\n"
          ]
        },
        {
          "output_type": "stream",
          "name": "stderr",
          "text": [
            "100%|██████████| 20/20 [00:00<00:00, 66.32it/s]\n"
          ]
        },
        {
          "output_type": "stream",
          "name": "stdout",
          "text": [
            "Training completed in 0.31 seconds\n",
            "Training with lr=0.0001, depth=3, width=16, lambda_pde=0.1, lambda_ic_bc=100.0, activation=tanh\n"
          ]
        },
        {
          "output_type": "stream",
          "name": "stderr",
          "text": [
            "100%|██████████| 20/20 [00:00<00:00, 84.70it/s]\n"
          ]
        },
        {
          "output_type": "stream",
          "name": "stdout",
          "text": [
            "Training completed in 0.24 seconds\n",
            "Training with lr=0.0001, depth=3, width=16, lambda_pde=0.1, lambda_ic_bc=100.0, activation=sine\n"
          ]
        },
        {
          "output_type": "stream",
          "name": "stderr",
          "text": [
            "100%|██████████| 20/20 [00:00<00:00, 83.93it/s]\n"
          ]
        },
        {
          "output_type": "stream",
          "name": "stdout",
          "text": [
            "Training completed in 0.24 seconds\n",
            "Training with lr=0.0001, depth=3, width=16, lambda_pde=0.1, lambda_ic_bc=100.0, activation=swish\n"
          ]
        },
        {
          "output_type": "stream",
          "name": "stderr",
          "text": [
            "100%|██████████| 20/20 [00:00<00:00, 65.64it/s]\n"
          ]
        },
        {
          "output_type": "stream",
          "name": "stdout",
          "text": [
            "Training completed in 0.31 seconds\n",
            "Training with lr=0.0001, depth=3, width=16, lambda_pde=1.0, lambda_ic_bc=1.0, activation=tanh\n"
          ]
        },
        {
          "output_type": "stream",
          "name": "stderr",
          "text": [
            "100%|██████████| 20/20 [00:00<00:00, 82.18it/s]\n"
          ]
        },
        {
          "output_type": "stream",
          "name": "stdout",
          "text": [
            "Training completed in 0.25 seconds\n",
            "Training with lr=0.0001, depth=3, width=16, lambda_pde=1.0, lambda_ic_bc=1.0, activation=sine\n"
          ]
        },
        {
          "output_type": "stream",
          "name": "stderr",
          "text": [
            "100%|██████████| 20/20 [00:00<00:00, 82.20it/s]\n"
          ]
        },
        {
          "output_type": "stream",
          "name": "stdout",
          "text": [
            "Training completed in 0.25 seconds\n",
            "Training with lr=0.0001, depth=3, width=16, lambda_pde=1.0, lambda_ic_bc=1.0, activation=swish\n"
          ]
        },
        {
          "output_type": "stream",
          "name": "stderr",
          "text": [
            "100%|██████████| 20/20 [00:00<00:00, 65.80it/s]\n"
          ]
        },
        {
          "output_type": "stream",
          "name": "stdout",
          "text": [
            "Training completed in 0.31 seconds\n",
            "Training with lr=0.0001, depth=3, width=16, lambda_pde=1.0, lambda_ic_bc=10.0, activation=tanh\n"
          ]
        },
        {
          "output_type": "stream",
          "name": "stderr",
          "text": [
            "100%|██████████| 20/20 [00:00<00:00, 84.21it/s]\n"
          ]
        },
        {
          "output_type": "stream",
          "name": "stdout",
          "text": [
            "Training completed in 0.24 seconds\n",
            "Training with lr=0.0001, depth=3, width=16, lambda_pde=1.0, lambda_ic_bc=10.0, activation=sine\n"
          ]
        },
        {
          "output_type": "stream",
          "name": "stderr",
          "text": [
            "100%|██████████| 20/20 [00:00<00:00, 76.67it/s]\n"
          ]
        },
        {
          "output_type": "stream",
          "name": "stdout",
          "text": [
            "Training completed in 0.26 seconds\n",
            "Training with lr=0.0001, depth=3, width=16, lambda_pde=1.0, lambda_ic_bc=10.0, activation=swish\n"
          ]
        },
        {
          "output_type": "stream",
          "name": "stderr",
          "text": [
            "100%|██████████| 20/20 [00:00<00:00, 66.21it/s]\n"
          ]
        },
        {
          "output_type": "stream",
          "name": "stdout",
          "text": [
            "Training completed in 0.31 seconds\n",
            "Training with lr=0.0001, depth=3, width=16, lambda_pde=1.0, lambda_ic_bc=100.0, activation=tanh\n"
          ]
        },
        {
          "output_type": "stream",
          "name": "stderr",
          "text": [
            "100%|██████████| 20/20 [00:00<00:00, 88.33it/s]\n"
          ]
        },
        {
          "output_type": "stream",
          "name": "stdout",
          "text": [
            "Training completed in 0.23 seconds\n",
            "Training with lr=0.0001, depth=3, width=16, lambda_pde=1.0, lambda_ic_bc=100.0, activation=sine\n"
          ]
        },
        {
          "output_type": "stream",
          "name": "stderr",
          "text": [
            "100%|██████████| 20/20 [00:00<00:00, 83.97it/s]\n"
          ]
        },
        {
          "output_type": "stream",
          "name": "stdout",
          "text": [
            "Training completed in 0.24 seconds\n",
            "Training with lr=0.0001, depth=3, width=16, lambda_pde=1.0, lambda_ic_bc=100.0, activation=swish\n"
          ]
        },
        {
          "output_type": "stream",
          "name": "stderr",
          "text": [
            "100%|██████████| 20/20 [00:00<00:00, 60.78it/s]\n"
          ]
        },
        {
          "output_type": "stream",
          "name": "stdout",
          "text": [
            "Training completed in 0.33 seconds\n",
            "Training with lr=0.0001, depth=3, width=16, lambda_pde=10.0, lambda_ic_bc=1.0, activation=tanh\n"
          ]
        },
        {
          "output_type": "stream",
          "name": "stderr",
          "text": [
            "100%|██████████| 20/20 [00:00<00:00, 84.59it/s]\n"
          ]
        },
        {
          "output_type": "stream",
          "name": "stdout",
          "text": [
            "Training completed in 0.24 seconds\n",
            "Training with lr=0.0001, depth=3, width=16, lambda_pde=10.0, lambda_ic_bc=1.0, activation=sine\n"
          ]
        },
        {
          "output_type": "stream",
          "name": "stderr",
          "text": [
            "100%|██████████| 20/20 [00:00<00:00, 81.10it/s]\n"
          ]
        },
        {
          "output_type": "stream",
          "name": "stdout",
          "text": [
            "Training completed in 0.25 seconds\n",
            "Training with lr=0.0001, depth=3, width=16, lambda_pde=10.0, lambda_ic_bc=1.0, activation=swish\n"
          ]
        },
        {
          "output_type": "stream",
          "name": "stderr",
          "text": [
            "100%|██████████| 20/20 [00:00<00:00, 65.39it/s]\n"
          ]
        },
        {
          "output_type": "stream",
          "name": "stdout",
          "text": [
            "Training completed in 0.31 seconds\n",
            "Training with lr=0.0001, depth=3, width=16, lambda_pde=10.0, lambda_ic_bc=10.0, activation=tanh\n"
          ]
        },
        {
          "output_type": "stream",
          "name": "stderr",
          "text": [
            "100%|██████████| 20/20 [00:00<00:00, 60.42it/s]\n"
          ]
        },
        {
          "output_type": "stream",
          "name": "stdout",
          "text": [
            "Training completed in 0.33 seconds\n",
            "Training with lr=0.0001, depth=3, width=16, lambda_pde=10.0, lambda_ic_bc=10.0, activation=sine\n"
          ]
        },
        {
          "output_type": "stream",
          "name": "stderr",
          "text": [
            "100%|██████████| 20/20 [00:00<00:00, 84.16it/s]\n"
          ]
        },
        {
          "output_type": "stream",
          "name": "stdout",
          "text": [
            "Training completed in 0.24 seconds\n",
            "Training with lr=0.0001, depth=3, width=16, lambda_pde=10.0, lambda_ic_bc=10.0, activation=swish\n"
          ]
        },
        {
          "output_type": "stream",
          "name": "stderr",
          "text": [
            "100%|██████████| 20/20 [00:00<00:00, 41.65it/s]\n"
          ]
        },
        {
          "output_type": "stream",
          "name": "stdout",
          "text": [
            "Training completed in 0.48 seconds\n",
            "Training with lr=0.0001, depth=3, width=16, lambda_pde=10.0, lambda_ic_bc=100.0, activation=tanh\n"
          ]
        },
        {
          "output_type": "stream",
          "name": "stderr",
          "text": [
            "100%|██████████| 20/20 [00:00<00:00, 63.66it/s]\n"
          ]
        },
        {
          "output_type": "stream",
          "name": "stdout",
          "text": [
            "Training completed in 0.32 seconds\n",
            "Training with lr=0.0001, depth=3, width=16, lambda_pde=10.0, lambda_ic_bc=100.0, activation=sine\n"
          ]
        },
        {
          "output_type": "stream",
          "name": "stderr",
          "text": [
            "100%|██████████| 20/20 [00:00<00:00, 64.03it/s]\n"
          ]
        },
        {
          "output_type": "stream",
          "name": "stdout",
          "text": [
            "Training completed in 0.32 seconds\n",
            "Training with lr=0.0001, depth=3, width=16, lambda_pde=10.0, lambda_ic_bc=100.0, activation=swish\n"
          ]
        },
        {
          "output_type": "stream",
          "name": "stderr",
          "text": [
            "100%|██████████| 20/20 [00:00<00:00, 53.48it/s]\n"
          ]
        },
        {
          "output_type": "stream",
          "name": "stdout",
          "text": [
            "Training completed in 0.38 seconds\n",
            "Training with lr=0.0001, depth=3, width=32, lambda_pde=0.1, lambda_ic_bc=1.0, activation=tanh\n"
          ]
        },
        {
          "output_type": "stream",
          "name": "stderr",
          "text": [
            "100%|██████████| 20/20 [00:00<00:00, 62.86it/s]\n"
          ]
        },
        {
          "output_type": "stream",
          "name": "stdout",
          "text": [
            "Training completed in 0.32 seconds\n",
            "Training with lr=0.0001, depth=3, width=32, lambda_pde=0.1, lambda_ic_bc=1.0, activation=sine\n"
          ]
        },
        {
          "output_type": "stream",
          "name": "stderr",
          "text": [
            "100%|██████████| 20/20 [00:00<00:00, 61.18it/s]\n"
          ]
        },
        {
          "output_type": "stream",
          "name": "stdout",
          "text": [
            "Training completed in 0.33 seconds\n",
            "Training with lr=0.0001, depth=3, width=32, lambda_pde=0.1, lambda_ic_bc=1.0, activation=swish\n"
          ]
        },
        {
          "output_type": "stream",
          "name": "stderr",
          "text": [
            "100%|██████████| 20/20 [00:00<00:00, 48.38it/s]\n"
          ]
        },
        {
          "output_type": "stream",
          "name": "stdout",
          "text": [
            "Training completed in 0.42 seconds\n",
            "Training with lr=0.0001, depth=3, width=32, lambda_pde=0.1, lambda_ic_bc=10.0, activation=tanh\n"
          ]
        },
        {
          "output_type": "stream",
          "name": "stderr",
          "text": [
            "100%|██████████| 20/20 [00:00<00:00, 81.06it/s]\n"
          ]
        },
        {
          "output_type": "stream",
          "name": "stdout",
          "text": [
            "Training completed in 0.25 seconds\n",
            "Training with lr=0.0001, depth=3, width=32, lambda_pde=0.1, lambda_ic_bc=10.0, activation=sine\n"
          ]
        },
        {
          "output_type": "stream",
          "name": "stderr",
          "text": [
            "100%|██████████| 20/20 [00:00<00:00, 82.47it/s]\n"
          ]
        },
        {
          "output_type": "stream",
          "name": "stdout",
          "text": [
            "Training completed in 0.25 seconds\n",
            "Training with lr=0.0001, depth=3, width=32, lambda_pde=0.1, lambda_ic_bc=10.0, activation=swish\n"
          ]
        },
        {
          "output_type": "stream",
          "name": "stderr",
          "text": [
            "100%|██████████| 20/20 [00:00<00:00, 64.03it/s]\n"
          ]
        },
        {
          "output_type": "stream",
          "name": "stdout",
          "text": [
            "Training completed in 0.32 seconds\n",
            "Training with lr=0.0001, depth=3, width=32, lambda_pde=0.1, lambda_ic_bc=100.0, activation=tanh\n"
          ]
        },
        {
          "output_type": "stream",
          "name": "stderr",
          "text": [
            "100%|██████████| 20/20 [00:00<00:00, 85.46it/s]\n"
          ]
        },
        {
          "output_type": "stream",
          "name": "stdout",
          "text": [
            "Training completed in 0.24 seconds\n",
            "Training with lr=0.0001, depth=3, width=32, lambda_pde=0.1, lambda_ic_bc=100.0, activation=sine\n"
          ]
        },
        {
          "output_type": "stream",
          "name": "stderr",
          "text": [
            "100%|██████████| 20/20 [00:00<00:00, 78.36it/s]\n"
          ]
        },
        {
          "output_type": "stream",
          "name": "stdout",
          "text": [
            "Training completed in 0.26 seconds\n",
            "Training with lr=0.0001, depth=3, width=32, lambda_pde=0.1, lambda_ic_bc=100.0, activation=swish\n"
          ]
        },
        {
          "output_type": "stream",
          "name": "stderr",
          "text": [
            "100%|██████████| 20/20 [00:00<00:00, 65.89it/s]\n"
          ]
        },
        {
          "output_type": "stream",
          "name": "stdout",
          "text": [
            "Training completed in 0.31 seconds\n",
            "Training with lr=0.0001, depth=3, width=32, lambda_pde=1.0, lambda_ic_bc=1.0, activation=tanh\n"
          ]
        },
        {
          "output_type": "stream",
          "name": "stderr",
          "text": [
            "100%|██████████| 20/20 [00:00<00:00, 87.31it/s]\n"
          ]
        },
        {
          "output_type": "stream",
          "name": "stdout",
          "text": [
            "Training completed in 0.23 seconds\n",
            "Training with lr=0.0001, depth=3, width=32, lambda_pde=1.0, lambda_ic_bc=1.0, activation=sine\n"
          ]
        },
        {
          "output_type": "stream",
          "name": "stderr",
          "text": [
            "100%|██████████| 20/20 [00:00<00:00, 84.30it/s]\n"
          ]
        },
        {
          "output_type": "stream",
          "name": "stdout",
          "text": [
            "Training completed in 0.24 seconds\n",
            "Training with lr=0.0001, depth=3, width=32, lambda_pde=1.0, lambda_ic_bc=1.0, activation=swish\n"
          ]
        },
        {
          "output_type": "stream",
          "name": "stderr",
          "text": [
            "100%|██████████| 20/20 [00:00<00:00, 62.98it/s]\n"
          ]
        },
        {
          "output_type": "stream",
          "name": "stdout",
          "text": [
            "Training completed in 0.32 seconds\n",
            "Training with lr=0.0001, depth=3, width=32, lambda_pde=1.0, lambda_ic_bc=10.0, activation=tanh\n"
          ]
        },
        {
          "output_type": "stream",
          "name": "stderr",
          "text": [
            "100%|██████████| 20/20 [00:00<00:00, 85.65it/s]\n"
          ]
        },
        {
          "output_type": "stream",
          "name": "stdout",
          "text": [
            "Training completed in 0.24 seconds\n",
            "Training with lr=0.0001, depth=3, width=32, lambda_pde=1.0, lambda_ic_bc=10.0, activation=sine\n"
          ]
        },
        {
          "output_type": "stream",
          "name": "stderr",
          "text": [
            "100%|██████████| 20/20 [00:00<00:00, 82.84it/s]\n"
          ]
        },
        {
          "output_type": "stream",
          "name": "stdout",
          "text": [
            "Training completed in 0.24 seconds\n",
            "Training with lr=0.0001, depth=3, width=32, lambda_pde=1.0, lambda_ic_bc=10.0, activation=swish\n"
          ]
        },
        {
          "output_type": "stream",
          "name": "stderr",
          "text": [
            "100%|██████████| 20/20 [00:00<00:00, 62.50it/s]\n"
          ]
        },
        {
          "output_type": "stream",
          "name": "stdout",
          "text": [
            "Training completed in 0.32 seconds\n",
            "Training with lr=0.0001, depth=3, width=32, lambda_pde=1.0, lambda_ic_bc=100.0, activation=tanh\n"
          ]
        },
        {
          "output_type": "stream",
          "name": "stderr",
          "text": [
            "100%|██████████| 20/20 [00:00<00:00, 84.47it/s]\n"
          ]
        },
        {
          "output_type": "stream",
          "name": "stdout",
          "text": [
            "Training completed in 0.24 seconds\n",
            "Training with lr=0.0001, depth=3, width=32, lambda_pde=1.0, lambda_ic_bc=100.0, activation=sine\n"
          ]
        },
        {
          "output_type": "stream",
          "name": "stderr",
          "text": [
            "100%|██████████| 20/20 [00:00<00:00, 82.51it/s]\n"
          ]
        },
        {
          "output_type": "stream",
          "name": "stdout",
          "text": [
            "Training completed in 0.25 seconds\n",
            "Training with lr=0.0001, depth=3, width=32, lambda_pde=1.0, lambda_ic_bc=100.0, activation=swish\n"
          ]
        },
        {
          "output_type": "stream",
          "name": "stderr",
          "text": [
            "100%|██████████| 20/20 [00:00<00:00, 66.96it/s]\n"
          ]
        },
        {
          "output_type": "stream",
          "name": "stdout",
          "text": [
            "Training completed in 0.30 seconds\n",
            "Training with lr=0.0001, depth=3, width=32, lambda_pde=10.0, lambda_ic_bc=1.0, activation=tanh\n"
          ]
        },
        {
          "output_type": "stream",
          "name": "stderr",
          "text": [
            "100%|██████████| 20/20 [00:00<00:00, 82.53it/s]\n"
          ]
        },
        {
          "output_type": "stream",
          "name": "stdout",
          "text": [
            "Training completed in 0.25 seconds\n",
            "Training with lr=0.0001, depth=3, width=32, lambda_pde=10.0, lambda_ic_bc=1.0, activation=sine\n"
          ]
        },
        {
          "output_type": "stream",
          "name": "stderr",
          "text": [
            "100%|██████████| 20/20 [00:00<00:00, 83.60it/s]\n"
          ]
        },
        {
          "output_type": "stream",
          "name": "stdout",
          "text": [
            "Training completed in 0.24 seconds\n",
            "Training with lr=0.0001, depth=3, width=32, lambda_pde=10.0, lambda_ic_bc=1.0, activation=swish\n"
          ]
        },
        {
          "output_type": "stream",
          "name": "stderr",
          "text": [
            "100%|██████████| 20/20 [00:00<00:00, 64.61it/s]\n"
          ]
        },
        {
          "output_type": "stream",
          "name": "stdout",
          "text": [
            "Training completed in 0.31 seconds\n",
            "Training with lr=0.0001, depth=3, width=32, lambda_pde=10.0, lambda_ic_bc=10.0, activation=tanh\n"
          ]
        },
        {
          "output_type": "stream",
          "name": "stderr",
          "text": [
            "100%|██████████| 20/20 [00:00<00:00, 84.68it/s]\n"
          ]
        },
        {
          "output_type": "stream",
          "name": "stdout",
          "text": [
            "Training completed in 0.24 seconds\n",
            "Training with lr=0.0001, depth=3, width=32, lambda_pde=10.0, lambda_ic_bc=10.0, activation=sine\n"
          ]
        },
        {
          "output_type": "stream",
          "name": "stderr",
          "text": [
            "100%|██████████| 20/20 [00:00<00:00, 77.83it/s]\n"
          ]
        },
        {
          "output_type": "stream",
          "name": "stdout",
          "text": [
            "Training completed in 0.26 seconds\n",
            "Training with lr=0.0001, depth=3, width=32, lambda_pde=10.0, lambda_ic_bc=10.0, activation=swish\n"
          ]
        },
        {
          "output_type": "stream",
          "name": "stderr",
          "text": [
            "100%|██████████| 20/20 [00:00<00:00, 64.93it/s]\n"
          ]
        },
        {
          "output_type": "stream",
          "name": "stdout",
          "text": [
            "Training completed in 0.31 seconds\n",
            "Training with lr=0.0001, depth=3, width=32, lambda_pde=10.0, lambda_ic_bc=100.0, activation=tanh\n"
          ]
        },
        {
          "output_type": "stream",
          "name": "stderr",
          "text": [
            "100%|██████████| 20/20 [00:00<00:00, 79.98it/s]\n"
          ]
        },
        {
          "output_type": "stream",
          "name": "stdout",
          "text": [
            "Training completed in 0.25 seconds\n",
            "Training with lr=0.0001, depth=3, width=32, lambda_pde=10.0, lambda_ic_bc=100.0, activation=sine\n"
          ]
        },
        {
          "output_type": "stream",
          "name": "stderr",
          "text": [
            "100%|██████████| 20/20 [00:00<00:00, 82.66it/s]\n"
          ]
        },
        {
          "output_type": "stream",
          "name": "stdout",
          "text": [
            "Training completed in 0.25 seconds\n",
            "Training with lr=0.0001, depth=3, width=32, lambda_pde=10.0, lambda_ic_bc=100.0, activation=swish\n"
          ]
        },
        {
          "output_type": "stream",
          "name": "stderr",
          "text": [
            "100%|██████████| 20/20 [00:00<00:00, 61.07it/s]\n"
          ]
        },
        {
          "output_type": "stream",
          "name": "stdout",
          "text": [
            "Training completed in 0.34 seconds\n",
            "Training with lr=0.0001, depth=3, width=64, lambda_pde=0.1, lambda_ic_bc=1.0, activation=tanh\n"
          ]
        },
        {
          "output_type": "stream",
          "name": "stderr",
          "text": [
            "100%|██████████| 20/20 [00:00<00:00, 80.99it/s]\n"
          ]
        },
        {
          "output_type": "stream",
          "name": "stdout",
          "text": [
            "Training completed in 0.25 seconds\n",
            "Training with lr=0.0001, depth=3, width=64, lambda_pde=0.1, lambda_ic_bc=1.0, activation=sine\n"
          ]
        },
        {
          "output_type": "stream",
          "name": "stderr",
          "text": [
            "100%|██████████| 20/20 [00:00<00:00, 83.97it/s]\n"
          ]
        },
        {
          "output_type": "stream",
          "name": "stdout",
          "text": [
            "Training completed in 0.24 seconds\n",
            "Training with lr=0.0001, depth=3, width=64, lambda_pde=0.1, lambda_ic_bc=1.0, activation=swish\n"
          ]
        },
        {
          "output_type": "stream",
          "name": "stderr",
          "text": [
            "100%|██████████| 20/20 [00:00<00:00, 61.46it/s]\n"
          ]
        },
        {
          "output_type": "stream",
          "name": "stdout",
          "text": [
            "Training completed in 0.33 seconds\n",
            "Training with lr=0.0001, depth=3, width=64, lambda_pde=0.1, lambda_ic_bc=10.0, activation=tanh\n"
          ]
        },
        {
          "output_type": "stream",
          "name": "stderr",
          "text": [
            "100%|██████████| 20/20 [00:00<00:00, 83.51it/s]\n"
          ]
        },
        {
          "output_type": "stream",
          "name": "stdout",
          "text": [
            "Training completed in 0.24 seconds\n",
            "Training with lr=0.0001, depth=3, width=64, lambda_pde=0.1, lambda_ic_bc=10.0, activation=sine\n"
          ]
        },
        {
          "output_type": "stream",
          "name": "stderr",
          "text": [
            "100%|██████████| 20/20 [00:00<00:00, 81.39it/s]\n"
          ]
        },
        {
          "output_type": "stream",
          "name": "stdout",
          "text": [
            "Training completed in 0.25 seconds\n",
            "Training with lr=0.0001, depth=3, width=64, lambda_pde=0.1, lambda_ic_bc=10.0, activation=swish\n"
          ]
        },
        {
          "output_type": "stream",
          "name": "stderr",
          "text": [
            "100%|██████████| 20/20 [00:00<00:00, 63.53it/s]\n"
          ]
        },
        {
          "output_type": "stream",
          "name": "stdout",
          "text": [
            "Training completed in 0.32 seconds\n",
            "Training with lr=0.0001, depth=3, width=64, lambda_pde=0.1, lambda_ic_bc=100.0, activation=tanh\n"
          ]
        },
        {
          "output_type": "stream",
          "name": "stderr",
          "text": [
            "100%|██████████| 20/20 [00:00<00:00, 82.70it/s]\n"
          ]
        },
        {
          "output_type": "stream",
          "name": "stdout",
          "text": [
            "Training completed in 0.25 seconds\n",
            "Training with lr=0.0001, depth=3, width=64, lambda_pde=0.1, lambda_ic_bc=100.0, activation=sine\n"
          ]
        },
        {
          "output_type": "stream",
          "name": "stderr",
          "text": [
            "100%|██████████| 20/20 [00:00<00:00, 84.30it/s]\n"
          ]
        },
        {
          "output_type": "stream",
          "name": "stdout",
          "text": [
            "Training completed in 0.24 seconds\n",
            "Training with lr=0.0001, depth=3, width=64, lambda_pde=0.1, lambda_ic_bc=100.0, activation=swish\n"
          ]
        },
        {
          "output_type": "stream",
          "name": "stderr",
          "text": [
            "100%|██████████| 20/20 [00:00<00:00, 65.30it/s]\n"
          ]
        },
        {
          "output_type": "stream",
          "name": "stdout",
          "text": [
            "Training completed in 0.31 seconds\n",
            "Training with lr=0.0001, depth=3, width=64, lambda_pde=1.0, lambda_ic_bc=1.0, activation=tanh\n"
          ]
        },
        {
          "output_type": "stream",
          "name": "stderr",
          "text": [
            "100%|██████████| 20/20 [00:00<00:00, 83.90it/s]\n"
          ]
        },
        {
          "output_type": "stream",
          "name": "stdout",
          "text": [
            "Training completed in 0.24 seconds\n",
            "Training with lr=0.0001, depth=3, width=64, lambda_pde=1.0, lambda_ic_bc=1.0, activation=sine\n"
          ]
        },
        {
          "output_type": "stream",
          "name": "stderr",
          "text": [
            "100%|██████████| 20/20 [00:00<00:00, 79.79it/s]\n"
          ]
        },
        {
          "output_type": "stream",
          "name": "stdout",
          "text": [
            "Training completed in 0.26 seconds\n",
            "Training with lr=0.0001, depth=3, width=64, lambda_pde=1.0, lambda_ic_bc=1.0, activation=swish\n"
          ]
        },
        {
          "output_type": "stream",
          "name": "stderr",
          "text": [
            "100%|██████████| 20/20 [00:00<00:00, 64.05it/s]\n"
          ]
        },
        {
          "output_type": "stream",
          "name": "stdout",
          "text": [
            "Training completed in 0.32 seconds\n",
            "Training with lr=0.0001, depth=3, width=64, lambda_pde=1.0, lambda_ic_bc=10.0, activation=tanh\n"
          ]
        },
        {
          "output_type": "stream",
          "name": "stderr",
          "text": [
            "100%|██████████| 20/20 [00:00<00:00, 64.80it/s]\n"
          ]
        },
        {
          "output_type": "stream",
          "name": "stdout",
          "text": [
            "Training completed in 0.32 seconds\n",
            "Training with lr=0.0001, depth=3, width=64, lambda_pde=1.0, lambda_ic_bc=10.0, activation=sine\n"
          ]
        },
        {
          "output_type": "stream",
          "name": "stderr",
          "text": [
            "100%|██████████| 20/20 [00:00<00:00, 64.31it/s]\n"
          ]
        },
        {
          "output_type": "stream",
          "name": "stdout",
          "text": [
            "Training completed in 0.32 seconds\n",
            "Training with lr=0.0001, depth=3, width=64, lambda_pde=1.0, lambda_ic_bc=10.0, activation=swish\n"
          ]
        },
        {
          "output_type": "stream",
          "name": "stderr",
          "text": [
            "100%|██████████| 20/20 [00:00<00:00, 50.84it/s]\n"
          ]
        },
        {
          "output_type": "stream",
          "name": "stdout",
          "text": [
            "Training completed in 0.40 seconds\n",
            "Training with lr=0.0001, depth=3, width=64, lambda_pde=1.0, lambda_ic_bc=100.0, activation=tanh\n"
          ]
        },
        {
          "output_type": "stream",
          "name": "stderr",
          "text": [
            "100%|██████████| 20/20 [00:00<00:00, 72.33it/s]\n"
          ]
        },
        {
          "output_type": "stream",
          "name": "stdout",
          "text": [
            "Training completed in 0.28 seconds\n",
            "Training with lr=0.0001, depth=3, width=64, lambda_pde=1.0, lambda_ic_bc=100.0, activation=sine\n"
          ]
        },
        {
          "output_type": "stream",
          "name": "stderr",
          "text": [
            "100%|██████████| 20/20 [00:00<00:00, 59.88it/s]\n"
          ]
        },
        {
          "output_type": "stream",
          "name": "stdout",
          "text": [
            "Training completed in 0.34 seconds\n",
            "Training with lr=0.0001, depth=3, width=64, lambda_pde=1.0, lambda_ic_bc=100.0, activation=swish\n"
          ]
        },
        {
          "output_type": "stream",
          "name": "stderr",
          "text": [
            "100%|██████████| 20/20 [00:00<00:00, 42.44it/s]\n"
          ]
        },
        {
          "output_type": "stream",
          "name": "stdout",
          "text": [
            "Training completed in 0.47 seconds\n",
            "Training with lr=0.0001, depth=3, width=64, lambda_pde=10.0, lambda_ic_bc=1.0, activation=tanh\n"
          ]
        },
        {
          "output_type": "stream",
          "name": "stderr",
          "text": [
            "100%|██████████| 20/20 [00:00<00:00, 84.50it/s]\n"
          ]
        },
        {
          "output_type": "stream",
          "name": "stdout",
          "text": [
            "Training completed in 0.24 seconds\n",
            "Training with lr=0.0001, depth=3, width=64, lambda_pde=10.0, lambda_ic_bc=1.0, activation=sine\n"
          ]
        },
        {
          "output_type": "stream",
          "name": "stderr",
          "text": [
            "100%|██████████| 20/20 [00:00<00:00, 81.30it/s]\n"
          ]
        },
        {
          "output_type": "stream",
          "name": "stdout",
          "text": [
            "Training completed in 0.25 seconds\n",
            "Training with lr=0.0001, depth=3, width=64, lambda_pde=10.0, lambda_ic_bc=1.0, activation=swish\n"
          ]
        },
        {
          "output_type": "stream",
          "name": "stderr",
          "text": [
            "100%|██████████| 20/20 [00:00<00:00, 60.87it/s]\n"
          ]
        },
        {
          "output_type": "stream",
          "name": "stdout",
          "text": [
            "Training completed in 0.33 seconds\n",
            "Training with lr=0.0001, depth=3, width=64, lambda_pde=10.0, lambda_ic_bc=10.0, activation=tanh\n"
          ]
        },
        {
          "output_type": "stream",
          "name": "stderr",
          "text": [
            "100%|██████████| 20/20 [00:00<00:00, 85.40it/s]\n"
          ]
        },
        {
          "output_type": "stream",
          "name": "stdout",
          "text": [
            "Training completed in 0.24 seconds\n",
            "Training with lr=0.0001, depth=3, width=64, lambda_pde=10.0, lambda_ic_bc=10.0, activation=sine\n"
          ]
        },
        {
          "output_type": "stream",
          "name": "stderr",
          "text": [
            "100%|██████████| 20/20 [00:00<00:00, 82.69it/s]\n"
          ]
        },
        {
          "output_type": "stream",
          "name": "stdout",
          "text": [
            "Training completed in 0.25 seconds\n",
            "Training with lr=0.0001, depth=3, width=64, lambda_pde=10.0, lambda_ic_bc=10.0, activation=swish\n"
          ]
        },
        {
          "output_type": "stream",
          "name": "stderr",
          "text": [
            "100%|██████████| 20/20 [00:00<00:00, 62.09it/s]\n"
          ]
        },
        {
          "output_type": "stream",
          "name": "stdout",
          "text": [
            "Training completed in 0.33 seconds\n",
            "Training with lr=0.0001, depth=3, width=64, lambda_pde=10.0, lambda_ic_bc=100.0, activation=tanh\n"
          ]
        },
        {
          "output_type": "stream",
          "name": "stderr",
          "text": [
            "100%|██████████| 20/20 [00:00<00:00, 83.76it/s]\n"
          ]
        },
        {
          "output_type": "stream",
          "name": "stdout",
          "text": [
            "Training completed in 0.24 seconds\n",
            "Training with lr=0.0001, depth=3, width=64, lambda_pde=10.0, lambda_ic_bc=100.0, activation=sine\n"
          ]
        },
        {
          "output_type": "stream",
          "name": "stderr",
          "text": [
            "100%|██████████| 20/20 [00:00<00:00, 83.39it/s]\n"
          ]
        },
        {
          "output_type": "stream",
          "name": "stdout",
          "text": [
            "Training completed in 0.24 seconds\n",
            "Training with lr=0.0001, depth=3, width=64, lambda_pde=10.0, lambda_ic_bc=100.0, activation=swish\n"
          ]
        },
        {
          "output_type": "stream",
          "name": "stderr",
          "text": [
            "100%|██████████| 20/20 [00:00<00:00, 65.28it/s]\n"
          ]
        },
        {
          "output_type": "stream",
          "name": "stdout",
          "text": [
            "Training completed in 0.31 seconds\n",
            "Training with lr=0.0001, depth=4, width=16, lambda_pde=0.1, lambda_ic_bc=1.0, activation=tanh\n"
          ]
        },
        {
          "output_type": "stream",
          "name": "stderr",
          "text": [
            "100%|██████████| 20/20 [00:00<00:00, 70.60it/s]\n"
          ]
        },
        {
          "output_type": "stream",
          "name": "stdout",
          "text": [
            "Training completed in 0.29 seconds\n",
            "Training with lr=0.0001, depth=4, width=16, lambda_pde=0.1, lambda_ic_bc=1.0, activation=sine\n"
          ]
        },
        {
          "output_type": "stream",
          "name": "stderr",
          "text": [
            "100%|██████████| 20/20 [00:00<00:00, 70.62it/s]\n"
          ]
        },
        {
          "output_type": "stream",
          "name": "stdout",
          "text": [
            "Training completed in 0.29 seconds\n",
            "Training with lr=0.0001, depth=4, width=16, lambda_pde=0.1, lambda_ic_bc=1.0, activation=swish\n"
          ]
        },
        {
          "output_type": "stream",
          "name": "stderr",
          "text": [
            "100%|██████████| 20/20 [00:00<00:00, 53.56it/s]\n"
          ]
        },
        {
          "output_type": "stream",
          "name": "stdout",
          "text": [
            "Training completed in 0.38 seconds\n",
            "Training with lr=0.0001, depth=4, width=16, lambda_pde=0.1, lambda_ic_bc=10.0, activation=tanh\n"
          ]
        },
        {
          "output_type": "stream",
          "name": "stderr",
          "text": [
            "100%|██████████| 20/20 [00:00<00:00, 65.26it/s]\n"
          ]
        },
        {
          "output_type": "stream",
          "name": "stdout",
          "text": [
            "Training completed in 0.31 seconds\n",
            "Training with lr=0.0001, depth=4, width=16, lambda_pde=0.1, lambda_ic_bc=10.0, activation=sine\n"
          ]
        },
        {
          "output_type": "stream",
          "name": "stderr",
          "text": [
            "100%|██████████| 20/20 [00:00<00:00, 69.78it/s]\n"
          ]
        },
        {
          "output_type": "stream",
          "name": "stdout",
          "text": [
            "Training completed in 0.29 seconds\n",
            "Training with lr=0.0001, depth=4, width=16, lambda_pde=0.1, lambda_ic_bc=10.0, activation=swish\n"
          ]
        },
        {
          "output_type": "stream",
          "name": "stderr",
          "text": [
            "100%|██████████| 20/20 [00:00<00:00, 52.62it/s]\n"
          ]
        },
        {
          "output_type": "stream",
          "name": "stdout",
          "text": [
            "Training completed in 0.39 seconds\n",
            "Training with lr=0.0001, depth=4, width=16, lambda_pde=0.1, lambda_ic_bc=100.0, activation=tanh\n"
          ]
        },
        {
          "output_type": "stream",
          "name": "stderr",
          "text": [
            "100%|██████████| 20/20 [00:00<00:00, 66.58it/s]\n"
          ]
        },
        {
          "output_type": "stream",
          "name": "stdout",
          "text": [
            "Training completed in 0.30 seconds\n",
            "Training with lr=0.0001, depth=4, width=16, lambda_pde=0.1, lambda_ic_bc=100.0, activation=sine\n"
          ]
        },
        {
          "output_type": "stream",
          "name": "stderr",
          "text": [
            "100%|██████████| 20/20 [00:00<00:00, 69.64it/s]\n"
          ]
        },
        {
          "output_type": "stream",
          "name": "stdout",
          "text": [
            "Training completed in 0.29 seconds\n",
            "Training with lr=0.0001, depth=4, width=16, lambda_pde=0.1, lambda_ic_bc=100.0, activation=swish\n"
          ]
        },
        {
          "output_type": "stream",
          "name": "stderr",
          "text": [
            "100%|██████████| 20/20 [00:00<00:00, 50.28it/s]\n"
          ]
        },
        {
          "output_type": "stream",
          "name": "stdout",
          "text": [
            "Training completed in 0.40 seconds\n",
            "Training with lr=0.0001, depth=4, width=16, lambda_pde=1.0, lambda_ic_bc=1.0, activation=tanh\n"
          ]
        },
        {
          "output_type": "stream",
          "name": "stderr",
          "text": [
            "100%|██████████| 20/20 [00:00<00:00, 72.09it/s]\n"
          ]
        },
        {
          "output_type": "stream",
          "name": "stdout",
          "text": [
            "Training completed in 0.29 seconds\n",
            "Training with lr=0.0001, depth=4, width=16, lambda_pde=1.0, lambda_ic_bc=1.0, activation=sine\n"
          ]
        },
        {
          "output_type": "stream",
          "name": "stderr",
          "text": [
            "100%|██████████| 20/20 [00:00<00:00, 68.41it/s]\n"
          ]
        },
        {
          "output_type": "stream",
          "name": "stdout",
          "text": [
            "Training completed in 0.30 seconds\n",
            "Training with lr=0.0001, depth=4, width=16, lambda_pde=1.0, lambda_ic_bc=1.0, activation=swish\n"
          ]
        },
        {
          "output_type": "stream",
          "name": "stderr",
          "text": [
            "100%|██████████| 20/20 [00:00<00:00, 53.53it/s]\n"
          ]
        },
        {
          "output_type": "stream",
          "name": "stdout",
          "text": [
            "Training completed in 0.38 seconds\n",
            "Training with lr=0.0001, depth=4, width=16, lambda_pde=1.0, lambda_ic_bc=10.0, activation=tanh\n"
          ]
        },
        {
          "output_type": "stream",
          "name": "stderr",
          "text": [
            "100%|██████████| 20/20 [00:00<00:00, 70.97it/s]\n"
          ]
        },
        {
          "output_type": "stream",
          "name": "stdout",
          "text": [
            "Training completed in 0.28 seconds\n",
            "Training with lr=0.0001, depth=4, width=16, lambda_pde=1.0, lambda_ic_bc=10.0, activation=sine\n"
          ]
        },
        {
          "output_type": "stream",
          "name": "stderr",
          "text": [
            "100%|██████████| 20/20 [00:00<00:00, 66.65it/s]\n"
          ]
        },
        {
          "output_type": "stream",
          "name": "stdout",
          "text": [
            "Training completed in 0.30 seconds\n",
            "Training with lr=0.0001, depth=4, width=16, lambda_pde=1.0, lambda_ic_bc=10.0, activation=swish\n"
          ]
        },
        {
          "output_type": "stream",
          "name": "stderr",
          "text": [
            "100%|██████████| 20/20 [00:00<00:00, 54.08it/s]\n"
          ]
        },
        {
          "output_type": "stream",
          "name": "stdout",
          "text": [
            "Training completed in 0.38 seconds\n",
            "Training with lr=0.0001, depth=4, width=16, lambda_pde=1.0, lambda_ic_bc=100.0, activation=tanh\n"
          ]
        },
        {
          "output_type": "stream",
          "name": "stderr",
          "text": [
            "100%|██████████| 20/20 [00:00<00:00, 74.85it/s]\n"
          ]
        },
        {
          "output_type": "stream",
          "name": "stdout",
          "text": [
            "Training completed in 0.27 seconds\n",
            "Training with lr=0.0001, depth=4, width=16, lambda_pde=1.0, lambda_ic_bc=100.0, activation=sine\n"
          ]
        },
        {
          "output_type": "stream",
          "name": "stderr",
          "text": [
            "100%|██████████| 20/20 [00:00<00:00, 63.86it/s]\n"
          ]
        },
        {
          "output_type": "stream",
          "name": "stdout",
          "text": [
            "Training completed in 0.32 seconds\n",
            "Training with lr=0.0001, depth=4, width=16, lambda_pde=1.0, lambda_ic_bc=100.0, activation=swish\n"
          ]
        },
        {
          "output_type": "stream",
          "name": "stderr",
          "text": [
            "100%|██████████| 20/20 [00:00<00:00, 54.24it/s]\n"
          ]
        },
        {
          "output_type": "stream",
          "name": "stdout",
          "text": [
            "Training completed in 0.37 seconds\n",
            "Training with lr=0.0001, depth=4, width=16, lambda_pde=10.0, lambda_ic_bc=1.0, activation=tanh\n"
          ]
        },
        {
          "output_type": "stream",
          "name": "stderr",
          "text": [
            "100%|██████████| 20/20 [00:00<00:00, 72.44it/s]\n"
          ]
        },
        {
          "output_type": "stream",
          "name": "stdout",
          "text": [
            "Training completed in 0.28 seconds\n",
            "Training with lr=0.0001, depth=4, width=16, lambda_pde=10.0, lambda_ic_bc=1.0, activation=sine\n"
          ]
        },
        {
          "output_type": "stream",
          "name": "stderr",
          "text": [
            "100%|██████████| 20/20 [00:00<00:00, 68.06it/s]\n"
          ]
        },
        {
          "output_type": "stream",
          "name": "stdout",
          "text": [
            "Training completed in 0.30 seconds\n",
            "Training with lr=0.0001, depth=4, width=16, lambda_pde=10.0, lambda_ic_bc=1.0, activation=swish\n"
          ]
        },
        {
          "output_type": "stream",
          "name": "stderr",
          "text": [
            "100%|██████████| 20/20 [00:00<00:00, 52.96it/s]\n"
          ]
        },
        {
          "output_type": "stream",
          "name": "stdout",
          "text": [
            "Training completed in 0.38 seconds\n",
            "Training with lr=0.0001, depth=4, width=16, lambda_pde=10.0, lambda_ic_bc=10.0, activation=tanh\n"
          ]
        },
        {
          "output_type": "stream",
          "name": "stderr",
          "text": [
            "100%|██████████| 20/20 [00:00<00:00, 72.31it/s]\n"
          ]
        },
        {
          "output_type": "stream",
          "name": "stdout",
          "text": [
            "Training completed in 0.28 seconds\n",
            "Training with lr=0.0001, depth=4, width=16, lambda_pde=10.0, lambda_ic_bc=10.0, activation=sine\n"
          ]
        },
        {
          "output_type": "stream",
          "name": "stderr",
          "text": [
            "100%|██████████| 20/20 [00:00<00:00, 68.08it/s]\n"
          ]
        },
        {
          "output_type": "stream",
          "name": "stdout",
          "text": [
            "Training completed in 0.30 seconds\n",
            "Training with lr=0.0001, depth=4, width=16, lambda_pde=10.0, lambda_ic_bc=10.0, activation=swish\n"
          ]
        },
        {
          "output_type": "stream",
          "name": "stderr",
          "text": [
            "100%|██████████| 20/20 [00:00<00:00, 39.30it/s]\n"
          ]
        },
        {
          "output_type": "stream",
          "name": "stdout",
          "text": [
            "Training completed in 0.52 seconds\n",
            "Training with lr=0.0001, depth=4, width=16, lambda_pde=10.0, lambda_ic_bc=100.0, activation=tanh\n"
          ]
        },
        {
          "output_type": "stream",
          "name": "stderr",
          "text": [
            "100%|██████████| 20/20 [00:00<00:00, 56.67it/s]\n"
          ]
        },
        {
          "output_type": "stream",
          "name": "stdout",
          "text": [
            "Training completed in 0.36 seconds\n",
            "Training with lr=0.0001, depth=4, width=16, lambda_pde=10.0, lambda_ic_bc=100.0, activation=sine\n"
          ]
        },
        {
          "output_type": "stream",
          "name": "stderr",
          "text": [
            "100%|██████████| 20/20 [00:00<00:00, 57.72it/s]\n"
          ]
        },
        {
          "output_type": "stream",
          "name": "stdout",
          "text": [
            "Training completed in 0.35 seconds\n",
            "Training with lr=0.0001, depth=4, width=16, lambda_pde=10.0, lambda_ic_bc=100.0, activation=swish\n"
          ]
        },
        {
          "output_type": "stream",
          "name": "stderr",
          "text": [
            "100%|██████████| 20/20 [00:00<00:00, 36.44it/s]\n"
          ]
        },
        {
          "output_type": "stream",
          "name": "stdout",
          "text": [
            "Training completed in 0.55 seconds\n",
            "Training with lr=0.0001, depth=4, width=32, lambda_pde=0.1, lambda_ic_bc=1.0, activation=tanh\n"
          ]
        },
        {
          "output_type": "stream",
          "name": "stderr",
          "text": [
            "100%|██████████| 20/20 [00:00<00:00, 48.36it/s]\n"
          ]
        },
        {
          "output_type": "stream",
          "name": "stdout",
          "text": [
            "Training completed in 0.42 seconds\n",
            "Training with lr=0.0001, depth=4, width=32, lambda_pde=0.1, lambda_ic_bc=1.0, activation=sine\n"
          ]
        },
        {
          "output_type": "stream",
          "name": "stderr",
          "text": [
            "100%|██████████| 20/20 [00:00<00:00, 71.09it/s]\n"
          ]
        },
        {
          "output_type": "stream",
          "name": "stdout",
          "text": [
            "Training completed in 0.29 seconds\n",
            "Training with lr=0.0001, depth=4, width=32, lambda_pde=0.1, lambda_ic_bc=1.0, activation=swish\n"
          ]
        },
        {
          "output_type": "stream",
          "name": "stderr",
          "text": [
            "100%|██████████| 20/20 [00:00<00:00, 52.01it/s]\n"
          ]
        },
        {
          "output_type": "stream",
          "name": "stdout",
          "text": [
            "Training completed in 0.39 seconds\n",
            "Training with lr=0.0001, depth=4, width=32, lambda_pde=0.1, lambda_ic_bc=10.0, activation=tanh\n"
          ]
        },
        {
          "output_type": "stream",
          "name": "stderr",
          "text": [
            "100%|██████████| 20/20 [00:00<00:00, 70.74it/s]\n"
          ]
        },
        {
          "output_type": "stream",
          "name": "stdout",
          "text": [
            "Training completed in 0.29 seconds\n",
            "Training with lr=0.0001, depth=4, width=32, lambda_pde=0.1, lambda_ic_bc=10.0, activation=sine\n"
          ]
        },
        {
          "output_type": "stream",
          "name": "stderr",
          "text": [
            "100%|██████████| 20/20 [00:00<00:00, 70.77it/s]\n"
          ]
        },
        {
          "output_type": "stream",
          "name": "stdout",
          "text": [
            "Training completed in 0.29 seconds\n",
            "Training with lr=0.0001, depth=4, width=32, lambda_pde=0.1, lambda_ic_bc=10.0, activation=swish\n"
          ]
        },
        {
          "output_type": "stream",
          "name": "stderr",
          "text": [
            "100%|██████████| 20/20 [00:00<00:00, 52.94it/s]\n"
          ]
        },
        {
          "output_type": "stream",
          "name": "stdout",
          "text": [
            "Training completed in 0.38 seconds\n",
            "Training with lr=0.0001, depth=4, width=32, lambda_pde=0.1, lambda_ic_bc=100.0, activation=tanh\n"
          ]
        },
        {
          "output_type": "stream",
          "name": "stderr",
          "text": [
            "100%|██████████| 20/20 [00:00<00:00, 70.49it/s]\n"
          ]
        },
        {
          "output_type": "stream",
          "name": "stdout",
          "text": [
            "Training completed in 0.29 seconds\n",
            "Training with lr=0.0001, depth=4, width=32, lambda_pde=0.1, lambda_ic_bc=100.0, activation=sine\n"
          ]
        },
        {
          "output_type": "stream",
          "name": "stderr",
          "text": [
            "100%|██████████| 20/20 [00:00<00:00, 70.64it/s]\n"
          ]
        },
        {
          "output_type": "stream",
          "name": "stdout",
          "text": [
            "Training completed in 0.29 seconds\n",
            "Training with lr=0.0001, depth=4, width=32, lambda_pde=0.1, lambda_ic_bc=100.0, activation=swish\n"
          ]
        },
        {
          "output_type": "stream",
          "name": "stderr",
          "text": [
            "100%|██████████| 20/20 [00:00<00:00, 52.41it/s]\n"
          ]
        },
        {
          "output_type": "stream",
          "name": "stdout",
          "text": [
            "Training completed in 0.39 seconds\n",
            "Training with lr=0.0001, depth=4, width=32, lambda_pde=1.0, lambda_ic_bc=1.0, activation=tanh\n"
          ]
        },
        {
          "output_type": "stream",
          "name": "stderr",
          "text": [
            "100%|██████████| 20/20 [00:00<00:00, 74.05it/s]\n"
          ]
        },
        {
          "output_type": "stream",
          "name": "stdout",
          "text": [
            "Training completed in 0.28 seconds\n",
            "Training with lr=0.0001, depth=4, width=32, lambda_pde=1.0, lambda_ic_bc=1.0, activation=sine\n"
          ]
        },
        {
          "output_type": "stream",
          "name": "stderr",
          "text": [
            "100%|██████████| 20/20 [00:00<00:00, 67.81it/s]\n"
          ]
        },
        {
          "output_type": "stream",
          "name": "stdout",
          "text": [
            "Training completed in 0.30 seconds\n",
            "Training with lr=0.0001, depth=4, width=32, lambda_pde=1.0, lambda_ic_bc=1.0, activation=swish\n"
          ]
        },
        {
          "output_type": "stream",
          "name": "stderr",
          "text": [
            "100%|██████████| 20/20 [00:00<00:00, 50.07it/s]\n"
          ]
        },
        {
          "output_type": "stream",
          "name": "stdout",
          "text": [
            "Training completed in 0.40 seconds\n",
            "Training with lr=0.0001, depth=4, width=32, lambda_pde=1.0, lambda_ic_bc=10.0, activation=tanh\n"
          ]
        },
        {
          "output_type": "stream",
          "name": "stderr",
          "text": [
            "100%|██████████| 20/20 [00:00<00:00, 73.57it/s]\n"
          ]
        },
        {
          "output_type": "stream",
          "name": "stdout",
          "text": [
            "Training completed in 0.28 seconds\n",
            "Training with lr=0.0001, depth=4, width=32, lambda_pde=1.0, lambda_ic_bc=10.0, activation=sine\n"
          ]
        },
        {
          "output_type": "stream",
          "name": "stderr",
          "text": [
            "100%|██████████| 20/20 [00:00<00:00, 66.88it/s]\n"
          ]
        },
        {
          "output_type": "stream",
          "name": "stdout",
          "text": [
            "Training completed in 0.31 seconds\n",
            "Training with lr=0.0001, depth=4, width=32, lambda_pde=1.0, lambda_ic_bc=10.0, activation=swish\n"
          ]
        },
        {
          "output_type": "stream",
          "name": "stderr",
          "text": [
            "100%|██████████| 20/20 [00:00<00:00, 49.85it/s]\n"
          ]
        },
        {
          "output_type": "stream",
          "name": "stdout",
          "text": [
            "Training completed in 0.40 seconds\n",
            "Training with lr=0.0001, depth=4, width=32, lambda_pde=1.0, lambda_ic_bc=100.0, activation=tanh\n"
          ]
        },
        {
          "output_type": "stream",
          "name": "stderr",
          "text": [
            "100%|██████████| 20/20 [00:00<00:00, 74.22it/s]\n"
          ]
        },
        {
          "output_type": "stream",
          "name": "stdout",
          "text": [
            "Training completed in 0.27 seconds\n",
            "Training with lr=0.0001, depth=4, width=32, lambda_pde=1.0, lambda_ic_bc=100.0, activation=sine\n"
          ]
        },
        {
          "output_type": "stream",
          "name": "stderr",
          "text": [
            "100%|██████████| 20/20 [00:00<00:00, 66.96it/s]\n"
          ]
        },
        {
          "output_type": "stream",
          "name": "stdout",
          "text": [
            "Training completed in 0.30 seconds\n",
            "Training with lr=0.0001, depth=4, width=32, lambda_pde=1.0, lambda_ic_bc=100.0, activation=swish\n"
          ]
        },
        {
          "output_type": "stream",
          "name": "stderr",
          "text": [
            "100%|██████████| 20/20 [00:00<00:00, 52.59it/s]\n"
          ]
        },
        {
          "output_type": "stream",
          "name": "stdout",
          "text": [
            "Training completed in 0.39 seconds\n",
            "Training with lr=0.0001, depth=4, width=32, lambda_pde=10.0, lambda_ic_bc=1.0, activation=tanh\n"
          ]
        },
        {
          "output_type": "stream",
          "name": "stderr",
          "text": [
            "100%|██████████| 20/20 [00:00<00:00, 72.79it/s]\n"
          ]
        },
        {
          "output_type": "stream",
          "name": "stdout",
          "text": [
            "Training completed in 0.28 seconds\n",
            "Training with lr=0.0001, depth=4, width=32, lambda_pde=10.0, lambda_ic_bc=1.0, activation=sine\n"
          ]
        },
        {
          "output_type": "stream",
          "name": "stderr",
          "text": [
            "100%|██████████| 20/20 [00:00<00:00, 68.09it/s]\n"
          ]
        },
        {
          "output_type": "stream",
          "name": "stdout",
          "text": [
            "Training completed in 0.30 seconds\n",
            "Training with lr=0.0001, depth=4, width=32, lambda_pde=10.0, lambda_ic_bc=1.0, activation=swish\n"
          ]
        },
        {
          "output_type": "stream",
          "name": "stderr",
          "text": [
            "100%|██████████| 20/20 [00:00<00:00, 49.39it/s]\n"
          ]
        },
        {
          "output_type": "stream",
          "name": "stdout",
          "text": [
            "Training completed in 0.41 seconds\n",
            "Training with lr=0.0001, depth=4, width=32, lambda_pde=10.0, lambda_ic_bc=10.0, activation=tanh\n"
          ]
        },
        {
          "output_type": "stream",
          "name": "stderr",
          "text": [
            "100%|██████████| 20/20 [00:00<00:00, 73.39it/s]\n"
          ]
        },
        {
          "output_type": "stream",
          "name": "stdout",
          "text": [
            "Training completed in 0.28 seconds\n",
            "Training with lr=0.0001, depth=4, width=32, lambda_pde=10.0, lambda_ic_bc=10.0, activation=sine\n"
          ]
        },
        {
          "output_type": "stream",
          "name": "stderr",
          "text": [
            "100%|██████████| 20/20 [00:00<00:00, 67.01it/s]\n"
          ]
        },
        {
          "output_type": "stream",
          "name": "stdout",
          "text": [
            "Training completed in 0.30 seconds\n",
            "Training with lr=0.0001, depth=4, width=32, lambda_pde=10.0, lambda_ic_bc=10.0, activation=swish\n"
          ]
        },
        {
          "output_type": "stream",
          "name": "stderr",
          "text": [
            "100%|██████████| 20/20 [00:00<00:00, 52.85it/s]\n"
          ]
        },
        {
          "output_type": "stream",
          "name": "stdout",
          "text": [
            "Training completed in 0.38 seconds\n",
            "Training with lr=0.0001, depth=4, width=32, lambda_pde=10.0, lambda_ic_bc=100.0, activation=tanh\n"
          ]
        },
        {
          "output_type": "stream",
          "name": "stderr",
          "text": [
            "100%|██████████| 20/20 [00:00<00:00, 73.18it/s]\n"
          ]
        },
        {
          "output_type": "stream",
          "name": "stdout",
          "text": [
            "Training completed in 0.28 seconds\n",
            "Training with lr=0.0001, depth=4, width=32, lambda_pde=10.0, lambda_ic_bc=100.0, activation=sine\n"
          ]
        },
        {
          "output_type": "stream",
          "name": "stderr",
          "text": [
            "100%|██████████| 20/20 [00:00<00:00, 67.11it/s]\n"
          ]
        },
        {
          "output_type": "stream",
          "name": "stdout",
          "text": [
            "Training completed in 0.30 seconds\n",
            "Training with lr=0.0001, depth=4, width=32, lambda_pde=10.0, lambda_ic_bc=100.0, activation=swish\n"
          ]
        },
        {
          "output_type": "stream",
          "name": "stderr",
          "text": [
            "100%|██████████| 20/20 [00:00<00:00, 52.86it/s]\n"
          ]
        },
        {
          "output_type": "stream",
          "name": "stdout",
          "text": [
            "Training completed in 0.38 seconds\n",
            "Training with lr=0.0001, depth=4, width=64, lambda_pde=0.1, lambda_ic_bc=1.0, activation=tanh\n"
          ]
        },
        {
          "output_type": "stream",
          "name": "stderr",
          "text": [
            "100%|██████████| 20/20 [00:00<00:00, 73.21it/s]\n"
          ]
        },
        {
          "output_type": "stream",
          "name": "stdout",
          "text": [
            "Training completed in 0.28 seconds\n",
            "Training with lr=0.0001, depth=4, width=64, lambda_pde=0.1, lambda_ic_bc=1.0, activation=sine\n"
          ]
        },
        {
          "output_type": "stream",
          "name": "stderr",
          "text": [
            "100%|██████████| 20/20 [00:00<00:00, 71.16it/s]\n"
          ]
        },
        {
          "output_type": "stream",
          "name": "stdout",
          "text": [
            "Training completed in 0.28 seconds\n",
            "Training with lr=0.0001, depth=4, width=64, lambda_pde=0.1, lambda_ic_bc=1.0, activation=swish\n"
          ]
        },
        {
          "output_type": "stream",
          "name": "stderr",
          "text": [
            "100%|██████████| 20/20 [00:00<00:00, 50.68it/s]\n"
          ]
        },
        {
          "output_type": "stream",
          "name": "stdout",
          "text": [
            "Training completed in 0.40 seconds\n",
            "Training with lr=0.0001, depth=4, width=64, lambda_pde=0.1, lambda_ic_bc=10.0, activation=tanh\n"
          ]
        },
        {
          "output_type": "stream",
          "name": "stderr",
          "text": [
            "100%|██████████| 20/20 [00:00<00:00, 69.78it/s]\n"
          ]
        },
        {
          "output_type": "stream",
          "name": "stdout",
          "text": [
            "Training completed in 0.29 seconds\n",
            "Training with lr=0.0001, depth=4, width=64, lambda_pde=0.1, lambda_ic_bc=10.0, activation=sine\n"
          ]
        },
        {
          "output_type": "stream",
          "name": "stderr",
          "text": [
            "100%|██████████| 20/20 [00:00<00:00, 54.48it/s]\n"
          ]
        },
        {
          "output_type": "stream",
          "name": "stdout",
          "text": [
            "Training completed in 0.37 seconds\n",
            "Training with lr=0.0001, depth=4, width=64, lambda_pde=0.1, lambda_ic_bc=10.0, activation=swish\n"
          ]
        },
        {
          "output_type": "stream",
          "name": "stderr",
          "text": [
            "100%|██████████| 20/20 [00:00<00:00, 39.35it/s]\n"
          ]
        },
        {
          "output_type": "stream",
          "name": "stdout",
          "text": [
            "Training completed in 0.51 seconds\n",
            "Training with lr=0.0001, depth=4, width=64, lambda_pde=0.1, lambda_ic_bc=100.0, activation=tanh\n"
          ]
        },
        {
          "output_type": "stream",
          "name": "stderr",
          "text": [
            "100%|██████████| 20/20 [00:00<00:00, 59.04it/s]\n"
          ]
        },
        {
          "output_type": "stream",
          "name": "stdout",
          "text": [
            "Training completed in 0.34 seconds\n",
            "Training with lr=0.0001, depth=4, width=64, lambda_pde=0.1, lambda_ic_bc=100.0, activation=sine\n"
          ]
        },
        {
          "output_type": "stream",
          "name": "stderr",
          "text": [
            "100%|██████████| 20/20 [00:00<00:00, 54.15it/s]\n"
          ]
        },
        {
          "output_type": "stream",
          "name": "stdout",
          "text": [
            "Training completed in 0.37 seconds\n",
            "Training with lr=0.0001, depth=4, width=64, lambda_pde=0.1, lambda_ic_bc=100.0, activation=swish\n"
          ]
        },
        {
          "output_type": "stream",
          "name": "stderr",
          "text": [
            "100%|██████████| 20/20 [00:00<00:00, 35.61it/s]\n"
          ]
        },
        {
          "output_type": "stream",
          "name": "stdout",
          "text": [
            "Training completed in 0.57 seconds\n",
            "Training with lr=0.0001, depth=4, width=64, lambda_pde=1.0, lambda_ic_bc=1.0, activation=tanh\n"
          ]
        },
        {
          "output_type": "stream",
          "name": "stderr",
          "text": [
            "100%|██████████| 20/20 [00:00<00:00, 59.79it/s]\n"
          ]
        },
        {
          "output_type": "stream",
          "name": "stdout",
          "text": [
            "Training completed in 0.34 seconds\n",
            "Training with lr=0.0001, depth=4, width=64, lambda_pde=1.0, lambda_ic_bc=1.0, activation=sine\n"
          ]
        },
        {
          "output_type": "stream",
          "name": "stderr",
          "text": [
            "100%|██████████| 20/20 [00:00<00:00, 67.70it/s]\n"
          ]
        },
        {
          "output_type": "stream",
          "name": "stdout",
          "text": [
            "Training completed in 0.30 seconds\n",
            "Training with lr=0.0001, depth=4, width=64, lambda_pde=1.0, lambda_ic_bc=1.0, activation=swish\n"
          ]
        },
        {
          "output_type": "stream",
          "name": "stderr",
          "text": [
            "100%|██████████| 20/20 [00:00<00:00, 52.88it/s]\n"
          ]
        },
        {
          "output_type": "stream",
          "name": "stdout",
          "text": [
            "Training completed in 0.38 seconds\n",
            "Training with lr=0.0001, depth=4, width=64, lambda_pde=1.0, lambda_ic_bc=10.0, activation=tanh\n"
          ]
        },
        {
          "output_type": "stream",
          "name": "stderr",
          "text": [
            "100%|██████████| 20/20 [00:00<00:00, 68.76it/s]\n"
          ]
        },
        {
          "output_type": "stream",
          "name": "stdout",
          "text": [
            "Training completed in 0.29 seconds\n",
            "Training with lr=0.0001, depth=4, width=64, lambda_pde=1.0, lambda_ic_bc=10.0, activation=sine\n"
          ]
        },
        {
          "output_type": "stream",
          "name": "stderr",
          "text": [
            "100%|██████████| 20/20 [00:00<00:00, 67.98it/s]\n"
          ]
        },
        {
          "output_type": "stream",
          "name": "stdout",
          "text": [
            "Training completed in 0.30 seconds\n",
            "Training with lr=0.0001, depth=4, width=64, lambda_pde=1.0, lambda_ic_bc=10.0, activation=swish\n"
          ]
        },
        {
          "output_type": "stream",
          "name": "stderr",
          "text": [
            "100%|██████████| 20/20 [00:00<00:00, 51.09it/s]\n"
          ]
        },
        {
          "output_type": "stream",
          "name": "stdout",
          "text": [
            "Training completed in 0.39 seconds\n",
            "Training with lr=0.0001, depth=4, width=64, lambda_pde=1.0, lambda_ic_bc=100.0, activation=tanh\n"
          ]
        },
        {
          "output_type": "stream",
          "name": "stderr",
          "text": [
            "100%|██████████| 20/20 [00:00<00:00, 72.22it/s]\n"
          ]
        },
        {
          "output_type": "stream",
          "name": "stdout",
          "text": [
            "Training completed in 0.28 seconds\n",
            "Training with lr=0.0001, depth=4, width=64, lambda_pde=1.0, lambda_ic_bc=100.0, activation=sine\n"
          ]
        },
        {
          "output_type": "stream",
          "name": "stderr",
          "text": [
            "100%|██████████| 20/20 [00:00<00:00, 67.14it/s]\n"
          ]
        },
        {
          "output_type": "stream",
          "name": "stdout",
          "text": [
            "Training completed in 0.30 seconds\n",
            "Training with lr=0.0001, depth=4, width=64, lambda_pde=1.0, lambda_ic_bc=100.0, activation=swish\n"
          ]
        },
        {
          "output_type": "stream",
          "name": "stderr",
          "text": [
            "100%|██████████| 20/20 [00:00<00:00, 53.58it/s]\n"
          ]
        },
        {
          "output_type": "stream",
          "name": "stdout",
          "text": [
            "Training completed in 0.38 seconds\n",
            "Training with lr=0.0001, depth=4, width=64, lambda_pde=10.0, lambda_ic_bc=1.0, activation=tanh\n"
          ]
        },
        {
          "output_type": "stream",
          "name": "stderr",
          "text": [
            "100%|██████████| 20/20 [00:00<00:00, 73.52it/s]\n"
          ]
        },
        {
          "output_type": "stream",
          "name": "stdout",
          "text": [
            "Training completed in 0.27 seconds\n",
            "Training with lr=0.0001, depth=4, width=64, lambda_pde=10.0, lambda_ic_bc=1.0, activation=sine\n"
          ]
        },
        {
          "output_type": "stream",
          "name": "stderr",
          "text": [
            "100%|██████████| 20/20 [00:00<00:00, 65.69it/s]\n"
          ]
        },
        {
          "output_type": "stream",
          "name": "stdout",
          "text": [
            "Training completed in 0.31 seconds\n",
            "Training with lr=0.0001, depth=4, width=64, lambda_pde=10.0, lambda_ic_bc=1.0, activation=swish\n"
          ]
        },
        {
          "output_type": "stream",
          "name": "stderr",
          "text": [
            "100%|██████████| 20/20 [00:00<00:00, 52.93it/s]\n"
          ]
        },
        {
          "output_type": "stream",
          "name": "stdout",
          "text": [
            "Training completed in 0.38 seconds\n",
            "Training with lr=0.0001, depth=4, width=64, lambda_pde=10.0, lambda_ic_bc=10.0, activation=tanh\n"
          ]
        },
        {
          "output_type": "stream",
          "name": "stderr",
          "text": [
            "100%|██████████| 20/20 [00:00<00:00, 70.89it/s]\n"
          ]
        },
        {
          "output_type": "stream",
          "name": "stdout",
          "text": [
            "Training completed in 0.29 seconds\n",
            "Training with lr=0.0001, depth=4, width=64, lambda_pde=10.0, lambda_ic_bc=10.0, activation=sine\n"
          ]
        },
        {
          "output_type": "stream",
          "name": "stderr",
          "text": [
            "100%|██████████| 20/20 [00:00<00:00, 64.56it/s]\n"
          ]
        },
        {
          "output_type": "stream",
          "name": "stdout",
          "text": [
            "Training completed in 0.31 seconds\n",
            "Training with lr=0.0001, depth=4, width=64, lambda_pde=10.0, lambda_ic_bc=10.0, activation=swish\n"
          ]
        },
        {
          "output_type": "stream",
          "name": "stderr",
          "text": [
            "100%|██████████| 20/20 [00:00<00:00, 53.67it/s]\n"
          ]
        },
        {
          "output_type": "stream",
          "name": "stdout",
          "text": [
            "Training completed in 0.38 seconds\n",
            "Training with lr=0.0001, depth=4, width=64, lambda_pde=10.0, lambda_ic_bc=100.0, activation=tanh\n"
          ]
        },
        {
          "output_type": "stream",
          "name": "stderr",
          "text": [
            "100%|██████████| 20/20 [00:00<00:00, 73.34it/s]\n"
          ]
        },
        {
          "output_type": "stream",
          "name": "stdout",
          "text": [
            "Training completed in 0.28 seconds\n",
            "Training with lr=0.0001, depth=4, width=64, lambda_pde=10.0, lambda_ic_bc=100.0, activation=sine\n"
          ]
        },
        {
          "output_type": "stream",
          "name": "stderr",
          "text": [
            "100%|██████████| 20/20 [00:00<00:00, 66.44it/s]\n"
          ]
        },
        {
          "output_type": "stream",
          "name": "stdout",
          "text": [
            "Training completed in 0.31 seconds\n",
            "Training with lr=0.0001, depth=4, width=64, lambda_pde=10.0, lambda_ic_bc=100.0, activation=swish\n"
          ]
        },
        {
          "output_type": "stream",
          "name": "stderr",
          "text": [
            "100%|██████████| 20/20 [00:00<00:00, 54.04it/s]\n"
          ]
        },
        {
          "output_type": "stream",
          "name": "stdout",
          "text": [
            "Training completed in 0.37 seconds\n",
            "Training with lr=0.0001, depth=5, width=16, lambda_pde=0.1, lambda_ic_bc=1.0, activation=tanh\n"
          ]
        },
        {
          "output_type": "stream",
          "name": "stderr",
          "text": [
            "100%|██████████| 20/20 [00:00<00:00, 63.35it/s]\n"
          ]
        },
        {
          "output_type": "stream",
          "name": "stdout",
          "text": [
            "Training completed in 0.32 seconds\n",
            "Training with lr=0.0001, depth=5, width=16, lambda_pde=0.1, lambda_ic_bc=1.0, activation=sine\n"
          ]
        },
        {
          "output_type": "stream",
          "name": "stderr",
          "text": [
            "100%|██████████| 20/20 [00:00<00:00, 58.03it/s]\n"
          ]
        },
        {
          "output_type": "stream",
          "name": "stdout",
          "text": [
            "Training completed in 0.35 seconds\n",
            "Training with lr=0.0001, depth=5, width=16, lambda_pde=0.1, lambda_ic_bc=1.0, activation=swish\n"
          ]
        },
        {
          "output_type": "stream",
          "name": "stderr",
          "text": [
            "100%|██████████| 20/20 [00:00<00:00, 44.91it/s]\n"
          ]
        },
        {
          "output_type": "stream",
          "name": "stdout",
          "text": [
            "Training completed in 0.45 seconds\n",
            "Training with lr=0.0001, depth=5, width=16, lambda_pde=0.1, lambda_ic_bc=10.0, activation=tanh\n"
          ]
        },
        {
          "output_type": "stream",
          "name": "stderr",
          "text": [
            "100%|██████████| 20/20 [00:00<00:00, 64.35it/s]\n"
          ]
        },
        {
          "output_type": "stream",
          "name": "stdout",
          "text": [
            "Training completed in 0.31 seconds\n",
            "Training with lr=0.0001, depth=5, width=16, lambda_pde=0.1, lambda_ic_bc=10.0, activation=sine\n"
          ]
        },
        {
          "output_type": "stream",
          "name": "stderr",
          "text": [
            "100%|██████████| 20/20 [00:00<00:00, 57.57it/s]\n"
          ]
        },
        {
          "output_type": "stream",
          "name": "stdout",
          "text": [
            "Training completed in 0.35 seconds\n",
            "Training with lr=0.0001, depth=5, width=16, lambda_pde=0.1, lambda_ic_bc=10.0, activation=swish\n"
          ]
        },
        {
          "output_type": "stream",
          "name": "stderr",
          "text": [
            "100%|██████████| 20/20 [00:00<00:00, 45.05it/s]\n"
          ]
        },
        {
          "output_type": "stream",
          "name": "stdout",
          "text": [
            "Training completed in 0.45 seconds\n",
            "Training with lr=0.0001, depth=5, width=16, lambda_pde=0.1, lambda_ic_bc=100.0, activation=tanh\n"
          ]
        },
        {
          "output_type": "stream",
          "name": "stderr",
          "text": [
            "100%|██████████| 20/20 [00:00<00:00, 61.91it/s]\n"
          ]
        },
        {
          "output_type": "stream",
          "name": "stdout",
          "text": [
            "Training completed in 0.33 seconds\n",
            "Training with lr=0.0001, depth=5, width=16, lambda_pde=0.1, lambda_ic_bc=100.0, activation=sine\n"
          ]
        },
        {
          "output_type": "stream",
          "name": "stderr",
          "text": [
            "100%|██████████| 20/20 [00:00<00:00, 61.37it/s]\n"
          ]
        },
        {
          "output_type": "stream",
          "name": "stdout",
          "text": [
            "Training completed in 0.33 seconds\n",
            "Training with lr=0.0001, depth=5, width=16, lambda_pde=0.1, lambda_ic_bc=100.0, activation=swish\n"
          ]
        },
        {
          "output_type": "stream",
          "name": "stderr",
          "text": [
            "100%|██████████| 20/20 [00:00<00:00, 43.76it/s]\n"
          ]
        },
        {
          "output_type": "stream",
          "name": "stdout",
          "text": [
            "Training completed in 0.46 seconds\n",
            "Training with lr=0.0001, depth=5, width=16, lambda_pde=1.0, lambda_ic_bc=1.0, activation=tanh\n"
          ]
        },
        {
          "output_type": "stream",
          "name": "stderr",
          "text": [
            "100%|██████████| 20/20 [00:00<00:00, 59.65it/s]\n"
          ]
        },
        {
          "output_type": "stream",
          "name": "stdout",
          "text": [
            "Training completed in 0.34 seconds\n",
            "Training with lr=0.0001, depth=5, width=16, lambda_pde=1.0, lambda_ic_bc=1.0, activation=sine\n"
          ]
        },
        {
          "output_type": "stream",
          "name": "stderr",
          "text": [
            "100%|██████████| 20/20 [00:00<00:00, 62.19it/s]\n"
          ]
        },
        {
          "output_type": "stream",
          "name": "stdout",
          "text": [
            "Training completed in 0.33 seconds\n",
            "Training with lr=0.0001, depth=5, width=16, lambda_pde=1.0, lambda_ic_bc=1.0, activation=swish\n"
          ]
        },
        {
          "output_type": "stream",
          "name": "stderr",
          "text": [
            "100%|██████████| 20/20 [00:00<00:00, 33.25it/s]\n"
          ]
        },
        {
          "output_type": "stream",
          "name": "stdout",
          "text": [
            "Training completed in 0.60 seconds\n",
            "Training with lr=0.0001, depth=5, width=16, lambda_pde=1.0, lambda_ic_bc=10.0, activation=tanh\n"
          ]
        },
        {
          "output_type": "stream",
          "name": "stderr",
          "text": [
            "100%|██████████| 20/20 [00:00<00:00, 49.06it/s]\n"
          ]
        },
        {
          "output_type": "stream",
          "name": "stdout",
          "text": [
            "Training completed in 0.41 seconds\n",
            "Training with lr=0.0001, depth=5, width=16, lambda_pde=1.0, lambda_ic_bc=10.0, activation=sine\n"
          ]
        },
        {
          "output_type": "stream",
          "name": "stderr",
          "text": [
            "100%|██████████| 20/20 [00:00<00:00, 47.94it/s]\n"
          ]
        },
        {
          "output_type": "stream",
          "name": "stdout",
          "text": [
            "Training completed in 0.42 seconds\n",
            "Training with lr=0.0001, depth=5, width=16, lambda_pde=1.0, lambda_ic_bc=10.0, activation=swish\n"
          ]
        },
        {
          "output_type": "stream",
          "name": "stderr",
          "text": [
            "100%|██████████| 20/20 [00:00<00:00, 29.33it/s]\n"
          ]
        },
        {
          "output_type": "stream",
          "name": "stdout",
          "text": [
            "Training completed in 0.69 seconds\n",
            "Training with lr=0.0001, depth=5, width=16, lambda_pde=1.0, lambda_ic_bc=100.0, activation=tanh\n"
          ]
        },
        {
          "output_type": "stream",
          "name": "stderr",
          "text": [
            "100%|██████████| 20/20 [00:00<00:00, 57.11it/s]\n"
          ]
        },
        {
          "output_type": "stream",
          "name": "stdout",
          "text": [
            "Training completed in 0.35 seconds\n",
            "Training with lr=0.0001, depth=5, width=16, lambda_pde=1.0, lambda_ic_bc=100.0, activation=sine\n"
          ]
        },
        {
          "output_type": "stream",
          "name": "stderr",
          "text": [
            "100%|██████████| 20/20 [00:00<00:00, 56.10it/s]\n"
          ]
        },
        {
          "output_type": "stream",
          "name": "stdout",
          "text": [
            "Training completed in 0.36 seconds\n",
            "Training with lr=0.0001, depth=5, width=16, lambda_pde=1.0, lambda_ic_bc=100.0, activation=swish\n"
          ]
        },
        {
          "output_type": "stream",
          "name": "stderr",
          "text": [
            "100%|██████████| 20/20 [00:00<00:00, 45.66it/s]\n"
          ]
        },
        {
          "output_type": "stream",
          "name": "stdout",
          "text": [
            "Training completed in 0.44 seconds\n",
            "Training with lr=0.0001, depth=5, width=16, lambda_pde=10.0, lambda_ic_bc=1.0, activation=tanh\n"
          ]
        },
        {
          "output_type": "stream",
          "name": "stderr",
          "text": [
            "100%|██████████| 20/20 [00:00<00:00, 63.83it/s]\n"
          ]
        },
        {
          "output_type": "stream",
          "name": "stdout",
          "text": [
            "Training completed in 0.32 seconds\n",
            "Training with lr=0.0001, depth=5, width=16, lambda_pde=10.0, lambda_ic_bc=1.0, activation=sine\n"
          ]
        },
        {
          "output_type": "stream",
          "name": "stderr",
          "text": [
            "100%|██████████| 20/20 [00:00<00:00, 58.63it/s]\n"
          ]
        },
        {
          "output_type": "stream",
          "name": "stdout",
          "text": [
            "Training completed in 0.34 seconds\n",
            "Training with lr=0.0001, depth=5, width=16, lambda_pde=10.0, lambda_ic_bc=1.0, activation=swish\n"
          ]
        },
        {
          "output_type": "stream",
          "name": "stderr",
          "text": [
            "100%|██████████| 20/20 [00:00<00:00, 45.82it/s]\n"
          ]
        },
        {
          "output_type": "stream",
          "name": "stdout",
          "text": [
            "Training completed in 0.44 seconds\n",
            "Training with lr=0.0001, depth=5, width=16, lambda_pde=10.0, lambda_ic_bc=10.0, activation=tanh\n"
          ]
        },
        {
          "output_type": "stream",
          "name": "stderr",
          "text": [
            "100%|██████████| 20/20 [00:00<00:00, 63.41it/s]\n"
          ]
        },
        {
          "output_type": "stream",
          "name": "stdout",
          "text": [
            "Training completed in 0.32 seconds\n",
            "Training with lr=0.0001, depth=5, width=16, lambda_pde=10.0, lambda_ic_bc=10.0, activation=sine\n"
          ]
        },
        {
          "output_type": "stream",
          "name": "stderr",
          "text": [
            "100%|██████████| 20/20 [00:00<00:00, 58.40it/s]\n"
          ]
        },
        {
          "output_type": "stream",
          "name": "stdout",
          "text": [
            "Training completed in 0.35 seconds\n",
            "Training with lr=0.0001, depth=5, width=16, lambda_pde=10.0, lambda_ic_bc=10.0, activation=swish\n"
          ]
        },
        {
          "output_type": "stream",
          "name": "stderr",
          "text": [
            "100%|██████████| 20/20 [00:00<00:00, 44.86it/s]\n"
          ]
        },
        {
          "output_type": "stream",
          "name": "stdout",
          "text": [
            "Training completed in 0.45 seconds\n",
            "Training with lr=0.0001, depth=5, width=16, lambda_pde=10.0, lambda_ic_bc=100.0, activation=tanh\n"
          ]
        },
        {
          "output_type": "stream",
          "name": "stderr",
          "text": [
            "100%|██████████| 20/20 [00:00<00:00, 61.66it/s]\n"
          ]
        },
        {
          "output_type": "stream",
          "name": "stdout",
          "text": [
            "Training completed in 0.33 seconds\n",
            "Training with lr=0.0001, depth=5, width=16, lambda_pde=10.0, lambda_ic_bc=100.0, activation=sine\n"
          ]
        },
        {
          "output_type": "stream",
          "name": "stderr",
          "text": [
            "100%|██████████| 20/20 [00:00<00:00, 62.11it/s]\n"
          ]
        },
        {
          "output_type": "stream",
          "name": "stdout",
          "text": [
            "Training completed in 0.33 seconds\n",
            "Training with lr=0.0001, depth=5, width=16, lambda_pde=10.0, lambda_ic_bc=100.0, activation=swish\n"
          ]
        },
        {
          "output_type": "stream",
          "name": "stderr",
          "text": [
            "100%|██████████| 20/20 [00:00<00:00, 45.47it/s]\n"
          ]
        },
        {
          "output_type": "stream",
          "name": "stdout",
          "text": [
            "Training completed in 0.44 seconds\n",
            "Training with lr=0.0001, depth=5, width=32, lambda_pde=0.1, lambda_ic_bc=1.0, activation=tanh\n"
          ]
        },
        {
          "output_type": "stream",
          "name": "stderr",
          "text": [
            "100%|██████████| 20/20 [00:00<00:00, 60.42it/s]\n"
          ]
        },
        {
          "output_type": "stream",
          "name": "stdout",
          "text": [
            "Training completed in 0.33 seconds\n",
            "Training with lr=0.0001, depth=5, width=32, lambda_pde=0.1, lambda_ic_bc=1.0, activation=sine\n"
          ]
        },
        {
          "output_type": "stream",
          "name": "stderr",
          "text": [
            "100%|██████████| 20/20 [00:00<00:00, 61.31it/s]\n"
          ]
        },
        {
          "output_type": "stream",
          "name": "stdout",
          "text": [
            "Training completed in 0.33 seconds\n",
            "Training with lr=0.0001, depth=5, width=32, lambda_pde=0.1, lambda_ic_bc=1.0, activation=swish\n"
          ]
        },
        {
          "output_type": "stream",
          "name": "stderr",
          "text": [
            "100%|██████████| 20/20 [00:00<00:00, 44.44it/s]\n"
          ]
        },
        {
          "output_type": "stream",
          "name": "stdout",
          "text": [
            "Training completed in 0.46 seconds\n",
            "Training with lr=0.0001, depth=5, width=32, lambda_pde=0.1, lambda_ic_bc=10.0, activation=tanh\n"
          ]
        },
        {
          "output_type": "stream",
          "name": "stderr",
          "text": [
            "100%|██████████| 20/20 [00:00<00:00, 60.24it/s]\n"
          ]
        },
        {
          "output_type": "stream",
          "name": "stdout",
          "text": [
            "Training completed in 0.34 seconds\n",
            "Training with lr=0.0001, depth=5, width=32, lambda_pde=0.1, lambda_ic_bc=10.0, activation=sine\n"
          ]
        },
        {
          "output_type": "stream",
          "name": "stderr",
          "text": [
            "100%|██████████| 20/20 [00:00<00:00, 61.82it/s]\n"
          ]
        },
        {
          "output_type": "stream",
          "name": "stdout",
          "text": [
            "Training completed in 0.33 seconds\n",
            "Training with lr=0.0001, depth=5, width=32, lambda_pde=0.1, lambda_ic_bc=10.0, activation=swish\n"
          ]
        },
        {
          "output_type": "stream",
          "name": "stderr",
          "text": [
            "100%|██████████| 20/20 [00:00<00:00, 43.12it/s]\n"
          ]
        },
        {
          "output_type": "stream",
          "name": "stdout",
          "text": [
            "Training completed in 0.47 seconds\n",
            "Training with lr=0.0001, depth=5, width=32, lambda_pde=0.1, lambda_ic_bc=100.0, activation=tanh\n"
          ]
        },
        {
          "output_type": "stream",
          "name": "stderr",
          "text": [
            "100%|██████████| 20/20 [00:00<00:00, 62.97it/s]\n"
          ]
        },
        {
          "output_type": "stream",
          "name": "stdout",
          "text": [
            "Training completed in 0.32 seconds\n",
            "Training with lr=0.0001, depth=5, width=32, lambda_pde=0.1, lambda_ic_bc=100.0, activation=sine\n"
          ]
        },
        {
          "output_type": "stream",
          "name": "stderr",
          "text": [
            "100%|██████████| 20/20 [00:00<00:00, 60.37it/s]\n"
          ]
        },
        {
          "output_type": "stream",
          "name": "stdout",
          "text": [
            "Training completed in 0.34 seconds\n",
            "Training with lr=0.0001, depth=5, width=32, lambda_pde=0.1, lambda_ic_bc=100.0, activation=swish\n"
          ]
        },
        {
          "output_type": "stream",
          "name": "stderr",
          "text": [
            "100%|██████████| 20/20 [00:00<00:00, 44.08it/s]\n"
          ]
        },
        {
          "output_type": "stream",
          "name": "stdout",
          "text": [
            "Training completed in 0.46 seconds\n",
            "Training with lr=0.0001, depth=5, width=32, lambda_pde=1.0, lambda_ic_bc=1.0, activation=tanh\n"
          ]
        },
        {
          "output_type": "stream",
          "name": "stderr",
          "text": [
            "100%|██████████| 20/20 [00:00<00:00, 64.49it/s]\n"
          ]
        },
        {
          "output_type": "stream",
          "name": "stdout",
          "text": [
            "Training completed in 0.31 seconds\n",
            "Training with lr=0.0001, depth=5, width=32, lambda_pde=1.0, lambda_ic_bc=1.0, activation=sine\n"
          ]
        },
        {
          "output_type": "stream",
          "name": "stderr",
          "text": [
            "100%|██████████| 20/20 [00:00<00:00, 60.57it/s]\n"
          ]
        },
        {
          "output_type": "stream",
          "name": "stdout",
          "text": [
            "Training completed in 0.33 seconds\n",
            "Training with lr=0.0001, depth=5, width=32, lambda_pde=1.0, lambda_ic_bc=1.0, activation=swish\n"
          ]
        },
        {
          "output_type": "stream",
          "name": "stderr",
          "text": [
            "100%|██████████| 20/20 [00:00<00:00, 43.14it/s]"
          ]
        }
      ],
      "source": [
        "import meshio\n",
        "import AirPollution.pinn2 as pinn2\n",
        "import AirPollution.crbe_fem as crbe_fem\n",
        "from AirPollution.crbe_fem import create_mesh, Domains, Models, MeshData\n",
        "import numpy as np\n",
        "# Set random seed for reproducibility\n",
        "np.random.seed(1234)\n",
        "\n",
        "\n",
        "# ========== Model params\n",
        "domain_size = 20.0\n",
        "domain = [-domain_size, domain_size] * 2\n",
        "\n",
        "T = 10.0  # End time\n",
        "time_range = [0, T]\n",
        "\n",
        "Lx = Ly = domain_size  # Half-size of the domain\n",
        "D = 0.1  # Diffusion coefficient (small value leads to advection-dominated flow)\n",
        "vx, vy = 1.0, 0.5  # Velocity field\n",
        "v = (vx, vy)\n",
        "sigma = 0.1\n",
        "\n",
        "model_params = crbe_fem.Models(vx=vx, vy=vy, D=D, sigma=sigma)\n",
        "\n",
        "# ========== Mesh Data\n",
        "n_steps = 32\n",
        "mesh_size = 16\n",
        "\n",
        "mesh_file = crbe_fem.create_mesh(mesh_size, domain_size=domain_size)\n",
        "mesh = meshio.read(mesh_file)\n",
        "domains = Domains(Lx=Lx, Ly=Ly, T=T)\n",
        "mesh_data = crbe_fem.MeshData(mesh, domains, nt=n_steps)\n",
        "\n",
        "# ========= Hyperparameter\n",
        "epochs = 20\n",
        "\n",
        "n_ic = round(0.2 * mesh_data.number_of_segments)\n",
        "n_bc = n_ic\n",
        "n_col = mesh_data.number_of_segments - n_ic - n_bc\n",
        "batch_sizes = {'pde': n_col, 'ic': n_ic, 'bc': n_ic}\n",
        "\n",
        "\n",
        "# ========= Results\n",
        "pinn_results = []\n",
        "\n",
        "\n",
        "\n",
        "# ========== Grid search\n",
        "\n",
        "for lr in learning_rates:\n",
        "    for depth in network_depths:\n",
        "        for width in network_widths:\n",
        "            for lambda_pde in loss_weights_pde:\n",
        "                for lambda_ic_bc in loss_weights_ic_bc:\n",
        "                    for activation in activation_functions:\n",
        "                        print(f\"Training with lr={lr}, depth={depth}, width={width}, lambda_pde={lambda_pde}, lambda_ic_bc={lambda_ic_bc}, activation={activation}\")\n",
        "                        layers = [3] + [width] * depth + [1]\n",
        "                        lambda_weights = {'pde': lambda_pde, 'ic': lambda_ic_bc, 'bc': lambda_ic_bc}\n",
        "                        model = pinn2.PINN(layers, D, v, activation)\n",
        "\n",
        "                        history = pinn2.train_pinn(model, domain, time_range, batch_sizes, lr, epochs, lambda_weights)\n",
        "                        x_eval_flat = mesh_data.midpoints[:,0].reshape(-1, 1)\n",
        "                        y_eval_flat = mesh_data.midpoints[:,0].reshape(-1, 1)\n",
        "                        t_eval = np.ones_like(x_eval_flat) * T\n",
        "\n",
        "                        rel_l2_error, max_error, u_pred, u_exact = pinn2.compute_error(\n",
        "                                    model, t_eval, x_eval_flat, y_eval_flat)\n",
        "\n",
        "                        pinn_results.append({\n",
        "                            'lr': lr,\n",
        "                            'depth': depth,\n",
        "                            'width': width,\n",
        "                            'lambda_pde': lambda_pde,\n",
        "                            'lambda_ic_bc': lambda_ic_bc,\n",
        "                            'activation': activation,\n",
        "                            'rel_l2_error': rel_l2_error,\n",
        "                            'max_error': max,\n",
        "                            'u_pred': u_pred,\n",
        "                            'u_exact': u_exact\n",
        "                        })\n",
        "\n",
        "\n",
        "\n",
        "\n",
        "df_pinn = pd.DataFrame(pinn_results)\n",
        "df_pinn.to_csv('pinn_results.csv', index=False)\n"
      ]
    },
    {
      "cell_type": "code",
      "execution_count": null,
      "metadata": {
        "id": "-dkVZ9EALEQ8"
      },
      "outputs": [],
      "source": [
        "# import meshio\n",
        "# from AirPollution.crbe_fem import create_mesh, Domains, Models, MeshData\n",
        "# # import numpy as np\n",
        "# # import matplotlib.pyplot as plt\n",
        "# # import matplotlib.tri as mtri\n",
        "# # import os\n",
        "# domain_size = 20.0\n",
        "# Lx = Ly = domain_size  # Half-size of the domain\n",
        "# T = 10.0  # End time\n",
        "# D = 0.1  # Diffusion coefficient (small value leads to advection-dominated flow)\n",
        "# vx, vy = 1.0, 0.5  # Velocity field\n",
        "# sigma = 0.1\n",
        "\n",
        "#  # Create mesh with 30 points per axis (higher resolution)\n",
        "# mesh_file = create_mesh(128, domain_size=domain_size)\n",
        "# mesh = meshio.read(mesh_file)\n",
        "\n",
        "#  # Setup parameters\n",
        "# domains = Domains(Lx=Lx, Ly=Ly, T=T)\n",
        "# model_params = Models(vx=vx, vy=vy, D=D, sigma=sigma)\n",
        "# n_steps = 256\n",
        "# mesh_data = MeshData(mesh, domains, nt=n_steps)  # More time steps for accuracy\n"
      ]
    },
    {
      "cell_type": "code",
      "execution_count": null,
      "metadata": {
        "id": "AmwqPOR7LdWo"
      },
      "outputs": [],
      "source": []
    },
    {
      "cell_type": "markdown",
      "metadata": {
        "id": "Gyg-qTxsUJQn"
      },
      "source": [
        "## **Training PINN model**"
      ]
    },
    {
      "cell_type": "code",
      "execution_count": null,
      "metadata": {
        "id": "gbWIzoDWTX16"
      },
      "outputs": [],
      "source": [
        "# import meshio\n",
        "# import AirPollution.pinn2 as pinn2\n",
        "# import AirPollution.crbe_fem as crbe_fem\n",
        "# from AirPollution.crbe_fem import create_mesh, Domains, Models, MeshData\n",
        "# import numpy as np\n",
        "\n",
        "# layers = [3] + [16] * 4 + [1]\n",
        "\n",
        "# domain = [-20, 20, -20, 20]\n",
        "# time_range = [0, 10]\n",
        "\n",
        "# vx, vy = 1.0, 0.5\n",
        "# v = [vx, vy]\n",
        "\n",
        "# lambda_weights = {'pde': 1.0, 'ic': 10.0, 'bc': 10.0}\n",
        "# learning_rate = 0.001\n",
        "# epochs = 1000\n",
        "# n_steps = 256\n",
        "# domain_size = 20.0\n",
        "# mesh_size = 128\n",
        "\n",
        "# mesh_file = crbe_fem.create_mesh(mesh_size, domain_size=domain_size)\n",
        "# mesh = meshio.read(mesh_file)\n",
        "# mesh_data = crbe_fem.MeshData(mesh, domains, nt=n_steps)\n",
        "# model_params = crbe_fem.Models(vx=vx, vy=vy, D=D, sigma=sigma)\n",
        "\n",
        "\n",
        "# n_ic = round(0.2 * mesh_data.number_of_segments)\n",
        "# n_bc = n_ic\n",
        "# n_col = mesh_data.number_of_segments - n_ic - n_bc\n",
        "# batch_sizes = {'pde': n_col, 'ic': n_ic, 'bc': n_ic}\n",
        "\n",
        "# model = pinn2.PINN(layers, D, v)\n",
        "\n",
        "# history = pinn2.train_pinn(model, domain, time_range, batch_sizes, learning_rate, epochs, lambda_weights)"
      ]
    },
    {
      "cell_type": "code",
      "execution_count": null,
      "metadata": {
        "id": "fsiemTlsTWN9"
      },
      "outputs": [],
      "source": [
        "# print(batch_sizes)"
      ]
    },
    {
      "cell_type": "code",
      "execution_count": null,
      "metadata": {
        "id": "sf5AENdyacrD"
      },
      "outputs": [],
      "source": [
        "#@title Plot\n",
        "import torch\n",
        "T_max = 10.0\n",
        "t_array = torch.linspace(0, T_max, n_steps)\n",
        "xx, yy = mesh_data.midpoints[:,0], mesh_data.midpoints[:,1]\n",
        "\n",
        "# pinn_solutions = np.zeros((n_steps, len(xx)))\n",
        "\n",
        "# device = \"cuda\" if torch.cuda.is_available() else \"cpu\"\n",
        "\n",
        "# for i in range(n_steps):\n",
        "#     t_val = t_array[i]\n",
        "#     t_tensor = torch.full((len(xx), 1), t_val, device=device)\n",
        "#     # Explicitly cast x_tensor and y_tensor to torch.float32\n",
        "#     x_tensor = torch.tensor(xx, device=device, dtype=torch.float32).reshape(-1, 1)\n",
        "#     y_tensor = torch.tensor(yy, device=device, dtype=torch.float32).reshape(-1, 1)\n",
        "#     # print(f\"x_tensor shape: {x_tensor.shape}\")\n",
        "#     # print(f\"y_tensor shape: {y_tensor.shape}\")\n",
        "#     xyt = torch.cat([x_tensor, y_tensor, t_tensor], dim=1)\n",
        "\n",
        "#     with torch.no_grad():\n",
        "#         pinn_solutions[i, :] = model(t_tensor, x_tensor, y_tensor).cpu().numpy().reshape(-1)\n",
        "\n",
        "# # pinn_solutions.shape\n",
        "\n",
        "# #Plotting\n",
        "\n",
        "# import matplotlib.pyplot as plt\n",
        "# import matplotlib.tri as mtri\n",
        "# import os\n",
        "\n",
        "# def plot_interpoleted_solution(time_index=None, save_dir=\"results\"):\n",
        "#         \"\"\"\n",
        "#         Plot solution at specified time index.\n",
        "\n",
        "#         Parameters:\n",
        "#         -----------\n",
        "#         time_index: int or None\n",
        "#             Time index to plot. If None, plot final time.\n",
        "#         save_dir: str\n",
        "#             Directory to save plots\n",
        "#         \"\"\"\n",
        "#         if time_index is None:\n",
        "#             time_index = mesh_data.nt - 1\n",
        "\n",
        "#         t = 10 #* mesh_data.dt\n",
        "\n",
        "#         # Create directory if it doesn't exist\n",
        "#         os.makedirs(save_dir, exist_ok=True)\n",
        "\n",
        "#         # Get points and triangles\n",
        "#         points = mesh_data.points\n",
        "#         triangles = mesh_data.triangles\n",
        "\n",
        "\n",
        "#         # Get numerical solution at the specified time index\n",
        "#         numerical_sol = pinn_solutions[-1,:]\n",
        "\n",
        "#         # Map segment values to vertices for plotting\n",
        "#         vertex_values = np.zeros(len(points))\n",
        "#         count = np.zeros(len(points))\n",
        "\n",
        "#         for i, (a, b) in enumerate(mesh_data.segments):\n",
        "#             vertex_values[a] += numerical_sol[i]\n",
        "#             vertex_values[b] += numerical_sol[i]\n",
        "#             count[a] += 1\n",
        "#             count[b] += 1\n",
        "\n",
        "#         # Average values at vertices\n",
        "#         vertex_values /= np.maximum(count, 1)  # Avoid division by zero\n",
        "\n",
        "#         # Compute analytical solution at vertices\n",
        "#         # t_tensor = torch.full((len(points), 1), t, device=device)\n",
        "#         # xyt = torch.cat([self.mesh_data.points, t_tensor], dim=1)\n",
        "#         # analytical_vertex_values = self.model_params.analytical_solution(xyt).cpu().numpy()\n",
        "#         # Compute analytical solution at vertices\n",
        "#         t_array = np.full((len(points), 1), t)\n",
        "#         xyt = np.hstack([points, t_array])\n",
        "#         analytical_vertex_values = model_params.analytical_solution(xyt)\n",
        "\n",
        "\n",
        "#         # Error at vertices\n",
        "#         error_values = vertex_values - analytical_vertex_values\n",
        "\n",
        "#         # Create subplot\n",
        "#         fig, axs = plt.subplots(1, 2, figsize=(15, 5))\n",
        "\n",
        "#         # Plot numerical solution\n",
        "#         triang = mtri.Triangulation(points[:, 0], points[:, 1], triangles)\n",
        "#         cntr1 = axs[0].tricontourf(triang, vertex_values, 20, cmap=\"viridis\")\n",
        "#         axs[0].set_title(f\"Numerical Solution at t = {t:.3f}\")\n",
        "#         axs[0].set_xlabel(\"x\")\n",
        "#         axs[0].set_ylabel(\"y\")\n",
        "#         fig.colorbar(cntr1, ax=axs[0])\n",
        "\n",
        "#         # Plot analytical solution\n",
        "#         cntr2 = axs[1].tricontourf(triang, analytical_vertex_values, 20, cmap=\"viridis\")\n",
        "#         axs[1].set_title(f\"Analytical Solution at t = {t:.3f}\")\n",
        "#         axs[1].set_xlabel(\"x\")\n",
        "#         axs[1].set_ylabel(\"y\")\n",
        "#         fig.colorbar(cntr2, ax=axs[1])\n",
        "\n",
        "#         # # Plot error\n",
        "#         # cntr3 = axs[2].tricontourf(triang, error_values, 20, cmap=\"coolwarm\",\n",
        "#         #                            norm=plt.Normalize(-np.max(np.abs(error_values)),\n",
        "#         #                                             np.max(np.abs(error_values))))\n",
        "#         # axs[2].set_title(f\"Error at t = {t:.3f}\")\n",
        "#         # axs[2].set_xlabel(\"x\")\n",
        "#         # axs[2].set_ylabel(\"y\")\n",
        "#         # fig.colorbar(cntr3, ax=axs[2])\n",
        "\n",
        "#         plt.tight_layout()\n",
        "#         plt.savefig(f\"{save_dir}/pinn_solution_t{time_index}_interpolated.png\", dpi=300)\n",
        "#         plt.savefig(f\"{save_dir}/pinn_solution_t{time_index}_interpolated.pdf\", dpi=300)\n",
        "#         plt.close()\n",
        "#         print(f\"Saved at {save_dir}/pinn_solution_t{time_index}_interpolated.png/pdf\")\n",
        "\n",
        "\n",
        "\n",
        "# plot_interpoleted_solution()"
      ]
    },
    {
      "cell_type": "code",
      "execution_count": null,
      "metadata": {
        "id": "hbWve92-HDN1"
      },
      "outputs": [],
      "source": [
        "# pinn2.plot_loss_history(history)"
      ]
    },
    {
      "cell_type": "code",
      "execution_count": null,
      "metadata": {
        "id": "72k_4k2Jc1zo"
      },
      "outputs": [],
      "source": [
        "# batch_sizes = {'pde': 1000, 'ic': 100, 'bc': 100}\n",
        "\n",
        "# pinn2.plot_collocation_points(domain, time_range, batch_sizes)"
      ]
    },
    {
      "cell_type": "code",
      "execution_count": null,
      "metadata": {
        "id": "x9brIqi7sXTd"
      },
      "outputs": [],
      "source": [
        "# mesh_file = crbe_fem.create_mesh(32, domain_size=domain_size)\n",
        "# mesh = meshio.read(mesh_file)\n",
        "# domains = Domains(Lx=Lx, Ly=Ly, T=T)\n",
        "# mesh_data = crbe_fem.MeshData(mesh, domains, nt=n_steps)\n",
        "# mesh_data.show()"
      ]
    }
  ],
  "metadata": {
    "accelerator": "GPU",
    "colab": {
      "gpuType": "T4",
      "provenance": [],
      "authorship_tag": "ABX9TyMFbSVm4fecaKve/TdEOPLS",
      "include_colab_link": true
    },
    "kernelspec": {
      "display_name": "Python 3",
      "name": "python3"
    },
    "language_info": {
      "name": "python"
    }
  },
  "nbformat": 4,
  "nbformat_minor": 0
}